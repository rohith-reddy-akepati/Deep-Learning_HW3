{
  "cells": [
    {
      "cell_type": "code",
      "execution_count": 1,
      "id": "fead65c8-5843-4165-9ad5-3b2d48657294",
      "metadata": {
        "id": "fead65c8-5843-4165-9ad5-3b2d48657294"
      },
      "outputs": [],
      "source": [
        "import requests\n",
        "import json\n",
        "import torch\n",
        "import os\n",
        "from tqdm import tqdm"
      ]
    },
    {
      "cell_type": "code",
      "execution_count": 2,
      "id": "f482ce0d-cbac-4913-b6ee-b3b8b9a22432",
      "metadata": {
        "colab": {
          "base_uri": "https://localhost:8080/"
        },
        "id": "f482ce0d-cbac-4913-b6ee-b3b8b9a22432",
        "outputId": "2735df7a-d29a-4a01-cc33-d1f16269fefb"
      },
      "outputs": [
        {
          "output_type": "stream",
          "name": "stdout",
          "text": [
            "Requirement already satisfied: transformers in /usr/local/lib/python3.10/dist-packages (4.44.2)\n",
            "Requirement already satisfied: filelock in /usr/local/lib/python3.10/dist-packages (from transformers) (3.16.1)\n",
            "Requirement already satisfied: huggingface-hub<1.0,>=0.23.2 in /usr/local/lib/python3.10/dist-packages (from transformers) (0.24.7)\n",
            "Requirement already satisfied: numpy>=1.17 in /usr/local/lib/python3.10/dist-packages (from transformers) (1.26.4)\n",
            "Requirement already satisfied: packaging>=20.0 in /usr/local/lib/python3.10/dist-packages (from transformers) (24.1)\n",
            "Requirement already satisfied: pyyaml>=5.1 in /usr/local/lib/python3.10/dist-packages (from transformers) (6.0.2)\n",
            "Requirement already satisfied: regex!=2019.12.17 in /usr/local/lib/python3.10/dist-packages (from transformers) (2024.9.11)\n",
            "Requirement already satisfied: requests in /usr/local/lib/python3.10/dist-packages (from transformers) (2.32.3)\n",
            "Requirement already satisfied: safetensors>=0.4.1 in /usr/local/lib/python3.10/dist-packages (from transformers) (0.4.5)\n",
            "Requirement already satisfied: tokenizers<0.20,>=0.19 in /usr/local/lib/python3.10/dist-packages (from transformers) (0.19.1)\n",
            "Requirement already satisfied: tqdm>=4.27 in /usr/local/lib/python3.10/dist-packages (from transformers) (4.66.6)\n",
            "Requirement already satisfied: fsspec>=2023.5.0 in /usr/local/lib/python3.10/dist-packages (from huggingface-hub<1.0,>=0.23.2->transformers) (2024.10.0)\n",
            "Requirement already satisfied: typing-extensions>=3.7.4.3 in /usr/local/lib/python3.10/dist-packages (from huggingface-hub<1.0,>=0.23.2->transformers) (4.12.2)\n",
            "Requirement already satisfied: charset-normalizer<4,>=2 in /usr/local/lib/python3.10/dist-packages (from requests->transformers) (3.4.0)\n",
            "Requirement already satisfied: idna<4,>=2.5 in /usr/local/lib/python3.10/dist-packages (from requests->transformers) (3.10)\n",
            "Requirement already satisfied: urllib3<3,>=1.21.1 in /usr/local/lib/python3.10/dist-packages (from requests->transformers) (2.2.3)\n",
            "Requirement already satisfied: certifi>=2017.4.17 in /usr/local/lib/python3.10/dist-packages (from requests->transformers) (2024.8.30)\n"
          ]
        }
      ],
      "source": [
        "!pip install transformers\n"
      ]
    },
    {
      "cell_type": "code",
      "execution_count": 3,
      "id": "87e5590e-028e-481c-be65-37131050345b",
      "metadata": {
        "id": "87e5590e-028e-481c-be65-37131050345b"
      },
      "outputs": [],
      "source": [
        "with open('spoken_train-v1.1.json', 'rb') as f:\n",
        "  squad = json.load(f)"
      ]
    },
    {
      "cell_type": "code",
      "execution_count": 4,
      "id": "2145edb0-8d15-4dbd-830a-d949ef1609a2",
      "metadata": {
        "colab": {
          "base_uri": "https://localhost:8080/"
        },
        "id": "2145edb0-8d15-4dbd-830a-d949ef1609a2",
        "outputId": "0e180332-6c21-442e-c4f9-0e19aae6c39e"
      },
      "outputs": [
        {
          "output_type": "execute_result",
          "data": {
            "text/plain": [
              "dict_keys(['title', 'paragraphs'])"
            ]
          },
          "metadata": {},
          "execution_count": 4
        }
      ],
      "source": [
        "squad['data'][0].keys()\n"
      ]
    },
    {
      "cell_type": "code",
      "execution_count": 5,
      "id": "8e7fd851-e4e5-445a-9a5f-1675d51ea533",
      "metadata": {
        "colab": {
          "base_uri": "https://localhost:8080/"
        },
        "id": "8e7fd851-e4e5-445a-9a5f-1675d51ea533",
        "outputId": "900a90fd-c361-4322-9118-8d5e6393d60c"
      },
      "outputs": [
        {
          "output_type": "stream",
          "name": "stdout",
          "text": [
            "University_of_Notre_Dame\n",
            "Beyoncé\n",
            "Montana\n",
            "Genocide\n",
            "Antibiotics\n",
            "Frédéric_Chopin\n",
            "Sino-Tibetan_relations_during_the_Ming_dynasty\n",
            "IPod\n",
            "The_Legend_of_Zelda:_Twilight_Princess\n",
            "Spectre_(2015_film)\n",
            "2008_Sichuan_earthquake\n",
            "New_York_City\n",
            "To_Kill_a_Mockingbird\n",
            "Solar_energy\n",
            "Tajikistan\n",
            "Anthropology\n",
            "Portugal\n",
            "Kanye_West\n",
            "Buddhism\n",
            "American_Idol\n",
            "Dog\n",
            "2008_Summer_Olympics_torch_relay\n",
            "Alfred_North_Whitehead\n",
            "Financial_crisis_of_2007%E2%80%9308\n",
            "Saint_Barth%C3%A9lemy\n",
            "Genome\n",
            "Comprehensive_school\n",
            "Republic_of_the_Congo\n",
            "Prime_minister\n",
            "Institute_of_technology\n",
            "Wayback_Machine\n",
            "Dutch_Republic\n",
            "Symbiosis\n",
            "Canadian_Armed_Forces\n",
            "Cardinal_(Catholicism)\n",
            "Iranian_languages\n",
            "Lighting\n",
            "Separation_of_powers_under_the_United_States_Constitution\n",
            "Architecture\n",
            "Human_Development_Index\n",
            "Southern_Europe\n",
            "BBC_Television\n",
            "Arnold_Schwarzenegger\n",
            "Plymouth\n",
            "Heresy\n",
            "Warsaw_Pact\n",
            "Materialism\n",
            "Space_Race\n",
            "Pub\n",
            "Christian\n",
            "Sony_Music_Entertainment\n",
            "Oklahoma_City\n",
            "Hunter-gatherer\n",
            "United_Nations_Population_Fund\n",
            "Russian_Soviet_Federative_Socialist_Republic\n",
            "Universal_Studios\n",
            "Alexander_Graham_Bell\n",
            "Internet_service_provider\n",
            "Comics\n",
            "Saint_Helena\n",
            "Aspirated_consonant\n",
            "Hydrogen\n",
            "Web_browser\n",
            "Boston\n",
            "BeiDou_Navigation_Satellite_System\n",
            "Canon_law\n",
            "Communications_in_Somalia\n",
            "Catalan_language\n",
            "Estonian_language\n",
            "Paper\n",
            "Arena_Football_League\n",
            "Adult_contemporary_music\n",
            "Matter\n",
            "Westminster_Abbey\n",
            "Nanjing\n",
            "Bern\n",
            "Daylight_saving_time\n",
            "Royal_Institute_of_British_Architects\n",
            "National_Archives_and_Records_Administration\n",
            "Tristan_da_Cunha\n",
            "University_of_Kansas\n",
            "Political_corruption\n",
            "Dialect\n",
            "Classical_music\n",
            "Slavs\n",
            "Southampton\n",
            "Treaty\n",
            "Josip_Broz_Tito\n",
            "Marshall_Islands\n",
            "Szlachta\n",
            "Virgil\n",
            "Alps\n",
            "Gene\n",
            "Guinea-Bissau\n",
            "List_of_numbered_streets_in_Manhattan\n",
            "Brain\n",
            "Near_East\n",
            "Zhejiang\n",
            "Ministry_of_Defence_(United_Kingdom)\n",
            "High-definition_television\n",
            "Wood\n",
            "Somalis\n",
            "Middle_Ages\n",
            "Phonology\n",
            "Computer\n",
            "Black_people\n",
            "The_Times\n",
            "New_Delhi\n",
            "Imamah_(Shia_doctrine)\n",
            "Bird_migration\n",
            "Atlantic_City,_New_Jersey\n",
            "Immunology\n",
            "MP3\n",
            "House_music\n",
            "Letter_case\n",
            "Chihuahua_(state)\n",
            "Pitch_(music)\n",
            "England_national_football_team\n",
            "Houston\n",
            "Copper\n",
            "Identity_(social_science)\n",
            "Himachal_Pradesh\n",
            "Communication\n",
            "Grape\n",
            "Computer_security\n",
            "Orthodox_Judaism\n",
            "Animal\n",
            "Beer\n",
            "Race_and_ethnicity_in_the_United_States_Census\n",
            "United_States_dollar\n",
            "Imperial_College_London\n",
            "Gymnastics\n",
            "Hanover\n",
            "Emotion\n",
            "FC_Barcelona\n",
            "Everton_F.C.\n",
            "Old_English\n",
            "Aircraft_carrier\n",
            "Federal_Aviation_Administration\n",
            "Lancashire\n",
            "Mesozoic\n",
            "Videoconferencing\n",
            "Gregorian_calendar\n",
            "Xbox_360\n",
            "Military_history_of_the_United_States\n",
            "Hard_rock\n",
            "Great_Plains\n",
            "Infrared\n",
            "Biodiversity\n",
            "ASCII\n",
            "Digestion\n",
            "Federal_Bureau_of_Investigation\n",
            "Adolescence\n",
            "Antarctica\n",
            "Mary_(mother_of_Jesus)\n",
            "Melbourne\n",
            "John,_King_of_England\n",
            "Macintosh\n",
            "Anti-aircraft_warfare\n",
            "Sanskrit\n",
            "Valencia\n",
            "General_Electric\n",
            "United_States_Army\n",
            "Franco-Prussian_War\n",
            "Eritrea\n",
            "Uranium\n",
            "Order_of_the_British_Empire\n",
            "Age_of_Enlightenment\n",
            "Circadian_rhythm\n",
            "Elizabeth_II\n",
            "Sexual_orientation\n",
            "Dell\n",
            "Capital_punishment_in_the_United_States\n",
            "Nintendo_Entertainment_System\n",
            "Ashkenazi_Jews\n",
            "Athanasius_of_Alexandria\n",
            "Seattle\n",
            "Memory\n",
            "Multiracial_American\n",
            "Pharmaceutical_industry\n",
            "Umayyad_Caliphate\n",
            "Asphalt\n",
            "Queen_Victoria\n",
            "Freemasonry\n",
            "Israel\n",
            "Hellenistic_period\n",
            "Napoleon\n",
            "Bill_%26_Melinda_Gates_Foundation\n",
            "Northwestern_University\n",
            "Hokkien\n",
            "Montevideo\n",
            "Poultry\n",
            "Arsenal_F.C.\n",
            "Dutch_language\n",
            "Buckingham_Palace\n",
            "Incandescent_light_bulb\n",
            "Clothing\n",
            "Chicago_Cubs\n",
            "States_of_Germany\n",
            "Korean_War\n",
            "Royal_Dutch_Shell\n",
            "Copyright_infringement\n",
            "Greece\n",
            "202\n"
          ]
        }
      ],
      "source": [
        "gr = -1\n",
        "for idx, group in enumerate(squad['data']):\n",
        "  print(group['title'])\n",
        "  if group['title'] == 'Greece':\n",
        "    gr = idx\n",
        "    print(gr)\n",
        "    break"
      ]
    },
    {
      "cell_type": "code",
      "execution_count": 6,
      "id": "ed040d85-6189-4f1a-afa1-564b613ecd8e",
      "metadata": {
        "colab": {
          "base_uri": "https://localhost:8080/",
          "height": 143
        },
        "id": "ed040d85-6189-4f1a-afa1-564b613ecd8e",
        "outputId": "10ca4f04-b6b1-4032-dd05-3efb85abac94"
      },
      "outputs": [
        {
          "output_type": "execute_result",
          "data": {
            "text/plain": [
              "'napoleon bonaparte nato mean l l j e n french nap led the napa tea or nepali on deep wanna parte the fifteenth of august seventeen sixty nine to the fifth of may eighteen twenty one was a french military and political leader who rose to prominence during the french revolution and led several successful campaigns during the revolutionary war sir. as napoleon i he was emperor of the french from eighty know for intel eighteen fourteen and again in eighteen fifteen. napoleon dominated european in global affairs for more than a decade while leaving france against a series of coalitions in the napoleonic wars. he won most of these wars and the vast majority of his battles building a large empire that ruled over continental europe before its final collapse in eighteen fifteen. often considered one of the greatest commanders in history his wars in campaigns are studied at military schools worldwide. he also remains one of the most celebrated and controversial political figures in western history. in civil affairs napoleon had a major longterm impact by bringing liberal reforms to the territories that he conquered especially the low countries switzerland and large parts of modern italy and germany. he implemented fundamental liberal policies in france and throughout western europe no wine his lasting legal achievement the napoleonic code has been adopted in various forms by a quarter of the worlds legal systems from japan to put back.'"
            ],
            "application/vnd.google.colaboratory.intrinsic+json": {
              "type": "string"
            }
          },
          "metadata": {},
          "execution_count": 6
        }
      ],
      "source": [
        "squad['data'][186]['paragraphs'][0]['context']\n"
      ]
    },
    {
      "cell_type": "code",
      "execution_count": 7,
      "id": "8d3e9100-9113-42c7-95e2-de86ea87c6b8",
      "metadata": {
        "id": "8d3e9100-9113-42c7-95e2-de86ea87c6b8"
      },
      "outputs": [],
      "source": [
        "def read_data(path):\n",
        "  # load the json file\n",
        "  with open(path, 'rb') as f:\n",
        "    squad = json.load(f)\n",
        "\n",
        "  contexts = []\n",
        "  questions = []\n",
        "  answers = []\n",
        "\n",
        "  for group in squad['data']:\n",
        "    for passage in group['paragraphs']:\n",
        "      context = passage['context']\n",
        "      for qa in passage['qas']:\n",
        "        question = qa['question']\n",
        "        for answer in qa['answers']:\n",
        "          contexts.append(context)\n",
        "          questions.append(question)\n",
        "          answers.append(answer)\n",
        "\n",
        "  return contexts, questions, answers"
      ]
    },
    {
      "cell_type": "code",
      "execution_count": 8,
      "id": "abc09950-c09b-4497-9462-b21583653590",
      "metadata": {
        "id": "abc09950-c09b-4497-9462-b21583653590"
      },
      "outputs": [],
      "source": [
        "# train_contexts, train_questions, train_answers = read_data('train_data.json')\n",
        "# valid_contexts, valid_questions, valid_answers = read_data('val_data.json')"
      ]
    },
    {
      "cell_type": "code",
      "execution_count": 9,
      "id": "c2f03380-6528-4449-93fb-e0bc27871318",
      "metadata": {
        "id": "c2f03380-6528-4449-93fb-e0bc27871318"
      },
      "outputs": [],
      "source": [
        "train_contexts, train_questions, train_answers = read_data('spoken_train-v1.1.json')\n",
        "valid_contexts, valid_questions, valid_answers = read_data('spoken_test-v1.1.json')\n",
        "\n"
      ]
    },
    {
      "cell_type": "code",
      "execution_count": 10,
      "id": "8725681c-e7b1-4a45-b0f6-9f3327f96bd8",
      "metadata": {
        "colab": {
          "base_uri": "https://localhost:8080/"
        },
        "id": "8725681c-e7b1-4a45-b0f6-9f3327f96bd8",
        "outputId": "5625d930-7b3c-434c-db74-40be597690b0"
      },
      "outputs": [
        {
          "output_type": "stream",
          "name": "stdout",
          "text": [
            "There are 37111 questions\n",
            "What country borders south Estonia?\n",
            "{'answer_start': 262, 'text': 'latvia'}\n"
          ]
        }
      ],
      "source": [
        "print(f'There are {len(train_questions)} questions')\n",
        "print(train_questions[-10000])\n",
        "print(train_answers[-10000])\n",
        ""
      ]
    },
    {
      "cell_type": "code",
      "execution_count": 11,
      "id": "abeba359-9954-4c9b-9ba0-168ff861f7e5",
      "metadata": {
        "id": "abeba359-9954-4c9b-9ba0-168ff861f7e5"
      },
      "outputs": [],
      "source": [
        "def add_end_idx(answers, contexts):\n",
        "  for answer, context in zip(answers, contexts):\n",
        "    gold_text = answer['text']\n",
        "    start_idx = answer['answer_start']\n",
        "    end_idx = start_idx + len(gold_text)\n",
        "\n",
        "    if context[start_idx:end_idx] == gold_text:\n",
        "      answer['answer_end'] = end_idx\n",
        "    elif context[start_idx-1:end_idx-1] == gold_text:\n",
        "      answer['answer_start'] = start_idx - 1\n",
        "      answer['answer_end'] = end_idx - 1\n",
        "    elif context[start_idx-2:end_idx-2] == gold_text:\n",
        "      answer['answer_start'] = start_idx - 2\n",
        "      answer['answer_end'] = end_idx - 2\n",
        "\n",
        "add_end_idx(train_answers, train_contexts)\n",
        "add_end_idx(valid_answers, valid_contexts)"
      ]
    },
    {
      "cell_type": "code",
      "execution_count": 12,
      "id": "49898629-fa89-4040-916c-3ca2bac9ae34",
      "metadata": {
        "colab": {
          "base_uri": "https://localhost:8080/"
        },
        "id": "49898629-fa89-4040-916c-3ca2bac9ae34",
        "outputId": "ef3b96ac-b15f-44f5-ff0e-c41987a218d3"
      },
      "outputs": [
        {
          "output_type": "stream",
          "name": "stdout",
          "text": [
            "What country borders south Estonia?\n",
            "{'answer_start': 262, 'text': 'latvia', 'answer_end': 268}\n"
          ]
        }
      ],
      "source": [
        "print(train_questions[-10000])\n",
        "print(train_answers[-10000])"
      ]
    },
    {
      "cell_type": "code",
      "execution_count": 13,
      "id": "a8650dab-dd72-42a4-ab51-13d2322669ed",
      "metadata": {
        "colab": {
          "base_uri": "https://localhost:8080/",
          "height": 308,
          "referenced_widgets": [
            "6a276de7a77f4b65a4833957d4684943",
            "2f3d778b495a48f4a4223bc377171811",
            "6b449e10ecb149ab8c0b965ee9293338",
            "9175da4328c745acb7bbb9e6ab2b24eb",
            "1f7865955918484b989eb56cd937c815",
            "5a4f42c8002d4c879e80ea7aacc21eb7",
            "a6aa6a6c655246bbb6dbe076669cd700",
            "354c5301e99440979957b7046cec308c",
            "3681ba6c40074b81a370786a4bee9239",
            "147b1e3e19814570bd86b79bad0b03ca",
            "5bf3e8f7d5ef4c888dd91f6f81a10d47",
            "9c004b70635e4e03bb06f931b21b9177",
            "d54853d94ee64977a2f5fa9a1fd0fd99",
            "006591e005404b58a41f4b3ff7d3b864",
            "c19dfb6a443d4b06a52c7fa79b027c9c",
            "8d74fa2b72b64ef895327b3a5089d97a",
            "283d28ac637c4d6fb1587a01b0b1cfab",
            "ecb0cf03aacf4fffb4872a9a8ca87835",
            "efff7f512fc54ce3af692ed259e71d9d",
            "d95b6c4c5eb84e13ae1a0642653aa783",
            "f498ec11e299417c852db5b4bdf94b7d",
            "c81a9117f4554763a71380da0c383a6b",
            "4f931155a7c0425fb93419f6c35bc78e",
            "cf6e6e2dc72e44e7905475d4632df05c",
            "b4bd532f7efa43a5ad0dcd943b0b65a9",
            "20eecd56faf14b63b0bdff710515d09b",
            "9ab1e20aa3ef480f98a67e2938b59cbb",
            "9bdcb67ac4f147a3bde7412792447530",
            "cfada1a51ba74df9820e504e59680c8a",
            "2e4e83c4d2244dc7bb8cc75a7f8e3033",
            "41929ea0454b455db32bb54ca90bd7ab",
            "3e70b723b9f54a91bc8383ed732d8792",
            "a4d111def9d74e33abbe45bcda892750",
            "f3d6ea0b19bc414db2d19e83c4007369",
            "daa2ccb61b8e4ab484849fa29ab59cb6",
            "2d96e0ab745b406b8285d1791814d941",
            "180b69758ba74c57abc9f72a0d3a732a",
            "cefc23c395fb4f1290cf294631ce6e48",
            "59195115aa754717aa0b7bec137d5f51",
            "890e8fe6540f402d9515d90836e5ee42",
            "ac97adfe16544c9098d8b9e7aa1695b7",
            "9bc10f29e3884facbe93ed41dc504d0b",
            "c1fc23937fd94cd2ab7d165548662afa",
            "0752430833d04b799cef2910ef6b089f"
          ]
        },
        "id": "a8650dab-dd72-42a4-ab51-13d2322669ed",
        "outputId": "8badf677-c7cd-41a2-c8b2-a5b33c9ac42a"
      },
      "outputs": [
        {
          "output_type": "stream",
          "name": "stderr",
          "text": [
            "/usr/local/lib/python3.10/dist-packages/huggingface_hub/utils/_token.py:89: UserWarning: \n",
            "The secret `HF_TOKEN` does not exist in your Colab secrets.\n",
            "To authenticate with the Hugging Face Hub, create a token in your settings tab (https://huggingface.co/settings/tokens), set it as secret in your Google Colab and restart your session.\n",
            "You will be able to reuse this secret in all of your notebooks.\n",
            "Please note that authentication is recommended but still optional to access public models or datasets.\n",
            "  warnings.warn(\n"
          ]
        },
        {
          "output_type": "display_data",
          "data": {
            "text/plain": [
              "tokenizer_config.json:   0%|          | 0.00/48.0 [00:00<?, ?B/s]"
            ],
            "application/vnd.jupyter.widget-view+json": {
              "version_major": 2,
              "version_minor": 0,
              "model_id": "6a276de7a77f4b65a4833957d4684943"
            }
          },
          "metadata": {}
        },
        {
          "output_type": "display_data",
          "data": {
            "text/plain": [
              "vocab.txt:   0%|          | 0.00/232k [00:00<?, ?B/s]"
            ],
            "application/vnd.jupyter.widget-view+json": {
              "version_major": 2,
              "version_minor": 0,
              "model_id": "9c004b70635e4e03bb06f931b21b9177"
            }
          },
          "metadata": {}
        },
        {
          "output_type": "display_data",
          "data": {
            "text/plain": [
              "tokenizer.json:   0%|          | 0.00/466k [00:00<?, ?B/s]"
            ],
            "application/vnd.jupyter.widget-view+json": {
              "version_major": 2,
              "version_minor": 0,
              "model_id": "4f931155a7c0425fb93419f6c35bc78e"
            }
          },
          "metadata": {}
        },
        {
          "output_type": "display_data",
          "data": {
            "text/plain": [
              "config.json:   0%|          | 0.00/570 [00:00<?, ?B/s]"
            ],
            "application/vnd.jupyter.widget-view+json": {
              "version_major": 2,
              "version_minor": 0,
              "model_id": "f3d6ea0b19bc414db2d19e83c4007369"
            }
          },
          "metadata": {}
        },
        {
          "output_type": "stream",
          "name": "stderr",
          "text": [
            "/usr/local/lib/python3.10/dist-packages/transformers/tokenization_utils_base.py:1601: FutureWarning: `clean_up_tokenization_spaces` was not set. It will be set to `True` by default. This behavior will be depracted in transformers v4.45, and will be then set to `False` by default. For more details check this issue: https://github.com/huggingface/transformers/issues/31884\n",
            "  warnings.warn(\n"
          ]
        }
      ],
      "source": [
        "from transformers import BertTokenizerFast\n",
        "\n",
        "tokenizer = BertTokenizerFast.from_pretrained('bert-base-uncased')\n",
        "\n",
        "doc_stride = 128\n",
        "\n",
        "train_encodings = tokenizer(\n",
        "    train_contexts,\n",
        "    train_questions,\n",
        "    truncation=True,\n",
        "    padding=True,\n",
        "    max_length=512,\n",
        "    stride=doc_stride\n",
        ")\n",
        "\n",
        "valid_encodings = tokenizer(\n",
        "    valid_contexts,\n",
        "    valid_questions,\n",
        "    truncation=True,\n",
        "    padding=True,\n",
        "    max_length=512,\n",
        "    stride=doc_stride\n",
        ")"
      ]
    },
    {
      "cell_type": "code",
      "execution_count": 14,
      "id": "df8b5451-f286-4b76-af29-e4b01cf7a341",
      "metadata": {
        "colab": {
          "base_uri": "https://localhost:8080/"
        },
        "id": "df8b5451-f286-4b76-af29-e4b01cf7a341",
        "outputId": "41061f0a-3827-4467-9175-eedf275355c3"
      },
      "outputs": [
        {
          "output_type": "execute_result",
          "data": {
            "text/plain": [
              "dict_keys(['input_ids', 'token_type_ids', 'attention_mask'])"
            ]
          },
          "metadata": {},
          "execution_count": 14
        }
      ],
      "source": [
        "train_encodings.keys()\n"
      ]
    },
    {
      "cell_type": "code",
      "execution_count": 15,
      "id": "c7ad6796-735c-485c-bf5e-d0483dc5558e",
      "metadata": {
        "colab": {
          "base_uri": "https://localhost:8080/"
        },
        "id": "c7ad6796-735c-485c-bf5e-d0483dc5558e",
        "outputId": "0c7f334b-a668-4df9-c291-3004badf0ef4"
      },
      "outputs": [
        {
          "output_type": "stream",
          "name": "stdout",
          "text": [
            "We have 37111 context-question pairs\n"
          ]
        }
      ],
      "source": [
        "no_of_encodings = len(train_encodings['input_ids'])\n",
        "print(f'We have {no_of_encodings} context-question pairs')\n",
        ""
      ]
    },
    {
      "cell_type": "code",
      "execution_count": null,
      "id": "c04eae36-9795-4dcd-9969-40d1406e5ad8",
      "metadata": {
        "id": "c04eae36-9795-4dcd-9969-40d1406e5ad8"
      },
      "outputs": [],
      "source": [
        "\n"
      ]
    },
    {
      "cell_type": "code",
      "execution_count": 16,
      "id": "d2ce7e6b-4913-4262-9211-6bc49fbedc37",
      "metadata": {
        "colab": {
          "base_uri": "https://localhost:8080/",
          "height": 143
        },
        "id": "d2ce7e6b-4913-4262-9211-6bc49fbedc37",
        "outputId": "04e5c00c-8c6e-4d75-b219-1cc61415c3b4"
      },
      "outputs": [
        {
          "output_type": "execute_result",
          "data": {
            "text/plain": [
              "'[CLS] architecturally the school has a catholic character. atop the main building school dome is the golden statue of the virgin mary. immediately in front of the main building in facing it is a copper statue of christ with arms appraised with the legend and the bad meow names. next to the main building is the basilica of the sacred heart. immediately behind the basilica is the grotto im mary in place of prayer and reflection. it is a replica of the grotto at lourdes france where the virgin mary reputedly appeared to st bernadette still burning eighteen fifty eight. at the end of the main drive and in a direct line that connects through three statues in the gold dome is as simple modern stone statue of mary. [SEP] what is in front of the notre dame main building? [SEP] [PAD] [PAD] [PAD] [PAD] [PAD] [PAD] [PAD] [PAD] [PAD] [PAD] [PAD] [PAD] [PAD] [PAD] [PAD] [PAD] [PAD] [PAD] [PAD] [PAD] [PAD] [PAD] [PAD] [PAD] [PAD] [PAD] [PAD] [PAD] [PAD] [PAD] [PAD] [PAD] [PAD] [PAD] [PAD] [PAD] [PAD] [PAD] [PAD] [PAD] [PAD] [PAD] [PAD] [PAD] [PAD] [PAD] [PAD] [PAD] [PAD] [PAD] [PAD] [PAD] [PAD] [PAD] [PAD] [PAD] [PAD] [PAD] [PAD] [PAD] [PAD] [PAD] [PAD] [PAD] [PAD] [PAD] [PAD] [PAD] [PAD] [PAD] [PAD] [PAD] [PAD] [PAD] [PAD] [PAD] [PAD] [PAD] [PAD] [PAD] [PAD] [PAD] [PAD] [PAD] [PAD] [PAD] [PAD] [PAD] [PAD] [PAD] [PAD] [PAD] [PAD] [PAD] [PAD] [PAD] [PAD] [PAD] [PAD] [PAD] [PAD] [PAD] [PAD] [PAD] [PAD] [PAD] [PAD] [PAD] [PAD] [PAD] [PAD] [PAD] [PAD] [PAD] [PAD] [PAD] [PAD] [PAD] [PAD] [PAD] [PAD] [PAD] [PAD] [PAD] [PAD] [PAD] [PAD] [PAD] [PAD] [PAD] [PAD] [PAD] [PAD] [PAD] [PAD] [PAD] [PAD] [PAD] [PAD] [PAD] [PAD] [PAD] [PAD] [PAD] [PAD] [PAD] [PAD] [PAD] [PAD] [PAD] [PAD] [PAD] [PAD] [PAD] [PAD] [PAD] [PAD] [PAD] [PAD] [PAD] [PAD] [PAD] [PAD] [PAD] [PAD] [PAD] [PAD] [PAD] [PAD] [PAD] [PAD] [PAD] [PAD] [PAD] [PAD] [PAD] [PAD] [PAD] [PAD] [PAD] [PAD] [PAD] [PAD] [PAD] [PAD] [PAD] [PAD] [PAD] [PAD] [PAD] [PAD] [PAD] [PAD] [PAD] [PAD] [PAD] [PAD] [PAD] [PAD] [PAD] [PAD] [PAD] [PAD] [PAD] [PAD] [PAD] [PAD] [PAD] [PAD] [PAD] [PAD] [PAD] [PAD] [PAD] [PAD] [PAD] [PAD] [PAD] [PAD] [PAD] [PAD] [PAD] [PAD] [PAD] [PAD] [PAD] [PAD] [PAD] [PAD] [PAD] [PAD] [PAD] [PAD] [PAD] [PAD] [PAD] [PAD] [PAD] [PAD] [PAD] [PAD] [PAD] [PAD] [PAD] [PAD] [PAD] [PAD] [PAD] [PAD] [PAD] [PAD] [PAD] [PAD] [PAD] [PAD] [PAD] [PAD] [PAD] [PAD] [PAD] [PAD] [PAD] [PAD] [PAD] [PAD] [PAD] [PAD] [PAD] [PAD] [PAD] [PAD] [PAD] [PAD] [PAD] [PAD] [PAD] [PAD] [PAD] [PAD] [PAD] [PAD] [PAD] [PAD] [PAD] [PAD] [PAD] [PAD] [PAD] [PAD] [PAD] [PAD] [PAD] [PAD] [PAD] [PAD] [PAD] [PAD] [PAD] [PAD] [PAD] [PAD] [PAD] [PAD] [PAD] [PAD] [PAD] [PAD] [PAD] [PAD] [PAD] [PAD] [PAD] [PAD] [PAD] [PAD] [PAD] [PAD] [PAD] [PAD] [PAD] [PAD] [PAD] [PAD] [PAD] [PAD] [PAD] [PAD] [PAD] [PAD] [PAD] [PAD] [PAD] [PAD] [PAD] [PAD] [PAD] [PAD] [PAD] [PAD] [PAD] [PAD] [PAD] [PAD] [PAD] [PAD] [PAD] [PAD] [PAD] [PAD] [PAD] [PAD] [PAD] [PAD]'"
            ],
            "application/vnd.google.colaboratory.intrinsic+json": {
              "type": "string"
            }
          },
          "metadata": {},
          "execution_count": 16
        }
      ],
      "source": [
        "tokenizer.decode(train_encodings['input_ids'][0])\n"
      ]
    },
    {
      "cell_type": "code",
      "execution_count": 17,
      "id": "2f92f122-c80f-49e8-975b-32a9968fb6e0",
      "metadata": {
        "id": "2f92f122-c80f-49e8-975b-32a9968fb6e0"
      },
      "outputs": [],
      "source": [
        "def add_token_positions(encodings, answers):\n",
        "    start_positions = []\n",
        "    end_positions = []\n",
        "    for i, answer in enumerate(answers):\n",
        "        start_pos = max(0, answer['answer_start'])\n",
        "        end_pos = max(0, answer['answer_end'] - 1)\n",
        "        start_positions.append(encodings.char_to_token(i, start_pos))\n",
        "        end_positions.append(encodings.char_to_token(i, end_pos))\n",
        "\n",
        "        # if start position is None, the answer passage has been truncated\n",
        "        if start_positions[-1] is None:\n",
        "            start_positions[-1] = tokenizer.model_max_length\n",
        "        if end_positions[-1] is None:\n",
        "            end_positions[-1] = tokenizer.model_max_length\n",
        "\n",
        "    encodings.update({'start_positions': start_positions, 'end_positions': end_positions})\n",
        "\n",
        "add_token_positions(train_encodings, train_answers)\n",
        "add_token_positions(valid_encodings, valid_answers)\n"
      ]
    },
    {
      "cell_type": "code",
      "execution_count": 18,
      "id": "9e536eb2-809b-4966-a0a9-e02737a061dd",
      "metadata": {
        "colab": {
          "base_uri": "https://localhost:8080/"
        },
        "id": "9e536eb2-809b-4966-a0a9-e02737a061dd",
        "outputId": "00b07d61-de5b-4926-b48f-3a1ac6136616"
      },
      "outputs": [
        {
          "output_type": "execute_result",
          "data": {
            "text/plain": [
              "[36, 11, 55, 107, 25, 21, 43, 67, 28, 22]"
            ]
          },
          "metadata": {},
          "execution_count": 18
        }
      ],
      "source": [
        "train_encodings['start_positions'][:10]\n"
      ]
    },
    {
      "cell_type": "code",
      "execution_count": 19,
      "id": "633cdbd3-7fe2-4dea-b085-885a867a9f7c",
      "metadata": {
        "id": "633cdbd3-7fe2-4dea-b085-885a867a9f7c"
      },
      "outputs": [],
      "source": [
        "class SQuAD_Dataset(torch.utils.data.Dataset):\n",
        "  def __init__(self, encodings):\n",
        "    self.encodings = encodings\n",
        "  def __getitem__(self, idx):\n",
        "    return {key: torch.tensor(val[idx]) for key, val in self.encodings.items()}\n",
        "  def __len__(self):\n",
        "    return len(self.encodings.input_ids)\n",
        ""
      ]
    },
    {
      "cell_type": "code",
      "execution_count": 20,
      "id": "5de72dec-a79f-460b-8fbe-03a9bcd444b0",
      "metadata": {
        "id": "5de72dec-a79f-460b-8fbe-03a9bcd444b0"
      },
      "outputs": [],
      "source": [
        "\n",
        "train_dataset = SQuAD_Dataset(train_encodings)\n",
        "valid_dataset = SQuAD_Dataset(valid_encodings)\n",
        ""
      ]
    },
    {
      "cell_type": "code",
      "execution_count": 21,
      "id": "b5e80800-ae76-4cad-957f-d50039bbc2b5",
      "metadata": {
        "id": "b5e80800-ae76-4cad-957f-d50039bbc2b5"
      },
      "outputs": [],
      "source": [
        "from torch.utils.data import DataLoader\n",
        "\n",
        "# Define the dataloaders\n",
        "train_loader = DataLoader(train_dataset, batch_size=16, shuffle=True)\n",
        "valid_loader = DataLoader(valid_dataset, batch_size=16)"
      ]
    },
    {
      "cell_type": "code",
      "execution_count": 22,
      "id": "a3090a47-7cc8-48c2-870f-897bba6575d1",
      "metadata": {
        "colab": {
          "base_uri": "https://localhost:8080/",
          "height": 105,
          "referenced_widgets": [
            "8c27bd399ad04f819b3eeac242f411b9",
            "132ad2ef6d1846b6af83830a91e6b1d1",
            "493bbfdca41f4863a5d6c00936ed7b28",
            "18e17479d6d04b78b265446bed52e55c",
            "afa0ea9fb2834283888a81b1a58623d0",
            "e7ccba86af2b4250a99fd9b9ad3fbaf5",
            "e3264acba65444cab15785ff0421b67e",
            "a90c463f3ccf499b8ac6baa30c709e68",
            "7c0902ac486c4a52adf802cc7abbf262",
            "7feb582cce3f4881aa60253b05d021e7",
            "ff251ea3dac847969413616cbbd05203"
          ]
        },
        "id": "a3090a47-7cc8-48c2-870f-897bba6575d1",
        "outputId": "7296232a-acb2-4359-cdfc-383ee2694ee4"
      },
      "outputs": [
        {
          "output_type": "display_data",
          "data": {
            "text/plain": [
              "model.safetensors:   0%|          | 0.00/440M [00:00<?, ?B/s]"
            ],
            "application/vnd.jupyter.widget-view+json": {
              "version_major": 2,
              "version_minor": 0,
              "model_id": "8c27bd399ad04f819b3eeac242f411b9"
            }
          },
          "metadata": {}
        },
        {
          "output_type": "stream",
          "name": "stderr",
          "text": [
            "Some weights of BertForQuestionAnswering were not initialized from the model checkpoint at bert-base-uncased and are newly initialized: ['qa_outputs.bias', 'qa_outputs.weight']\n",
            "You should probably TRAIN this model on a down-stream task to be able to use it for predictions and inference.\n"
          ]
        }
      ],
      "source": [
        "from transformers import BertForQuestionAnswering\n",
        "\n",
        "model = BertForQuestionAnswering.from_pretrained(\"bert-base-uncased\")"
      ]
    },
    {
      "cell_type": "code",
      "execution_count": 23,
      "id": "35637e68-a6f9-48bc-a176-769947ca5a06",
      "metadata": {
        "colab": {
          "base_uri": "https://localhost:8080/"
        },
        "id": "35637e68-a6f9-48bc-a176-769947ca5a06",
        "outputId": "8b1596eb-f7d2-4a71-f26d-c46e2b648f9e"
      },
      "outputs": [
        {
          "output_type": "stream",
          "name": "stdout",
          "text": [
            "Working on cuda\n"
          ]
        }
      ],
      "source": [
        "\n",
        "# Check on the available device - use GPU\n",
        "device = torch.device('cuda') if torch.cuda.is_available() else torch.device('cpu')\n",
        "print(f'Working on {device}')\n",
        ""
      ]
    },
    {
      "cell_type": "code",
      "execution_count": 24,
      "id": "0594d2dd-f17e-404c-a0a1-2664924f1284",
      "metadata": {
        "colab": {
          "base_uri": "https://localhost:8080/"
        },
        "id": "0594d2dd-f17e-404c-a0a1-2664924f1284",
        "outputId": "5cdff239-6f92-4bea-e1bf-b548918b9b08"
      },
      "outputs": [
        {
          "output_type": "stream",
          "name": "stderr",
          "text": [
            "/usr/local/lib/python3.10/dist-packages/transformers/optimization.py:591: FutureWarning: This implementation of AdamW is deprecated and will be removed in a future version. Use the PyTorch implementation torch.optim.AdamW instead, or set `no_deprecation_warning=True` to disable this warning\n",
            "  warnings.warn(\n",
            "Epoch 1: 100%|██████████| 2320/2320 [55:02<00:00,  1.42s/it, loss=0.792]\n"
          ]
        }
      ],
      "source": [
        "from transformers import AdamW, get_linear_schedule_with_warmup\n",
        "\n",
        "N_EPOCHS = 1\n",
        "MAX_LR = 5e-5\n",
        "WARMUP_STEPS = 100\n",
        "TOTAL_STEPS = len(train_loader) * N_EPOCHS\n",
        "GRADIENT_ACCUMULATION_STEPS = 8\n",
        "\n",
        "optim = AdamW(model.parameters(), lr=MAX_LR)\n",
        "\n",
        "scheduler = get_linear_schedule_with_warmup(\n",
        "    optim, num_warmup_steps=WARMUP_STEPS, num_training_steps=TOTAL_STEPS\n",
        ")\n",
        "\n",
        "model.to(device)\n",
        "model.train()\n",
        "i=0\n",
        "for epoch in range(N_EPOCHS):\n",
        "    loop = tqdm(train_loader, leave=True)\n",
        "    for batch in loop:\n",
        "        input_ids = batch['input_ids'].to(device)\n",
        "        attention_mask = batch['attention_mask'].to(device)\n",
        "        start_positions = batch['start_positions'].to(device)\n",
        "        end_positions = batch['end_positions'].to(device)\n",
        "\n",
        "        outputs = model(input_ids, attention_mask=attention_mask, start_positions=start_positions, end_positions=end_positions)\n",
        "        loss = outputs[0]\n",
        "\n",
        "        loss = loss / GRADIENT_ACCUMULATION_STEPS\n",
        "        loss.backward()\n",
        "\n",
        "        if (i + 1) % GRADIENT_ACCUMULATION_STEPS == 0:\n",
        "            torch.nn.utils.clip_grad_norm_(model.parameters(), 1.0)\n",
        "            optim.step()\n",
        "            scheduler.step()\n",
        "            optim.zero_grad()\n",
        "\n",
        "        loop.set_description(f'Epoch {epoch+1}')\n",
        "        loop.set_postfix(loss=loss.item())\n"
      ]
    },
    {
      "cell_type": "code",
      "execution_count": null,
      "id": "7819d97f-505f-421d-bdb5-8ff3ed0ab16d",
      "metadata": {
        "id": "7819d97f-505f-421d-bdb5-8ff3ed0ab16d"
      },
      "outputs": [],
      "source": []
    },
    {
      "cell_type": "code",
      "execution_count": 25,
      "id": "12b8466b-3a6e-4073-bc4b-e2295d225c3f",
      "metadata": {
        "colab": {
          "base_uri": "https://localhost:8080/"
        },
        "id": "12b8466b-3a6e-4073-bc4b-e2295d225c3f",
        "outputId": "682b95ee-7fdb-4c51-a31e-557791d6fa3c"
      },
      "outputs": [
        {
          "output_type": "stream",
          "name": "stdout",
          "text": [
            "Collecting jiwer\n",
            "  Downloading jiwer-3.0.5-py3-none-any.whl.metadata (2.7 kB)\n",
            "Requirement already satisfied: click<9.0.0,>=8.1.3 in /usr/local/lib/python3.10/dist-packages (from jiwer) (8.1.7)\n",
            "Collecting rapidfuzz<4,>=3 (from jiwer)\n",
            "  Downloading rapidfuzz-3.10.1-cp310-cp310-manylinux_2_17_x86_64.manylinux2014_x86_64.whl.metadata (11 kB)\n",
            "Downloading jiwer-3.0.5-py3-none-any.whl (21 kB)\n",
            "Downloading rapidfuzz-3.10.1-cp310-cp310-manylinux_2_17_x86_64.manylinux2014_x86_64.whl (3.1 MB)\n",
            "\u001b[2K   \u001b[90m━━━━━━━━━━━━━━━━━━━━━━━━━━━━━━━━━━━━━━━━\u001b[0m \u001b[32m3.1/3.1 MB\u001b[0m \u001b[31m42.0 MB/s\u001b[0m eta \u001b[36m0:00:00\u001b[0m\n",
            "\u001b[?25hInstalling collected packages: rapidfuzz, jiwer\n",
            "Successfully installed jiwer-3.0.5 rapidfuzz-3.10.1\n"
          ]
        }
      ],
      "source": [
        "!pip install jiwer\n",
        ""
      ]
    },
    {
      "cell_type": "code",
      "execution_count": null,
      "id": "c2bdc34b-d30c-4b05-8b21-d4e4faeb57ed",
      "metadata": {
        "id": "c2bdc34b-d30c-4b05-8b21-d4e4faeb57ed"
      },
      "outputs": [],
      "source": []
    },
    {
      "cell_type": "code",
      "source": [],
      "metadata": {
        "id": "mpwIpi1Z6b3F"
      },
      "id": "mpwIpi1Z6b3F",
      "execution_count": null,
      "outputs": []
    },
    {
      "cell_type": "code",
      "execution_count": null,
      "id": "4e5bbf1c-e190-43c2-95a1-aacfda09b3ab",
      "metadata": {
        "id": "4e5bbf1c-e190-43c2-95a1-aacfda09b3ab"
      },
      "outputs": [],
      "source": []
    },
    {
      "cell_type": "code",
      "execution_count": 26,
      "id": "a6e6daa1-77e7-44b1-a1a0-1bd1eba85ba2",
      "metadata": {
        "id": "a6e6daa1-77e7-44b1-a1a0-1bd1eba85ba2"
      },
      "outputs": [],
      "source": [
        "def get_prediction(context, question):\n",
        "  inputs = tokenizer.encode_plus(question, context, return_tensors='pt').to(device)\n",
        "  outputs = model(**inputs)\n",
        "\n",
        "  answer_start = torch.argmax(outputs[0])\n",
        "  answer_end = torch.argmax(outputs[1]) + 1\n",
        "\n",
        "  answer = tokenizer.convert_tokens_to_string(tokenizer.convert_ids_to_tokens(inputs['input_ids'][0][answer_start:answer_end]))\n",
        "\n",
        "  return answer\n",
        "\n",
        "def normalize_text(s):\n",
        "  \"\"\"Removing articles and punctuation, and standardizing whitespace are all typical text processing steps.\"\"\"\n",
        "  import string, re\n",
        "  def remove_articles(text):\n",
        "    regex = re.compile(r\"\\b(a|an|the)\\b\", re.UNICODE)\n",
        "    return re.sub(regex, \" \", text)\n",
        "  def white_space_fix(text):\n",
        "    return \" \".join(text.split())\n",
        "  def remove_punc(text):\n",
        "    exclude = set(string.punctuation)\n",
        "    return \"\".join(ch for ch in text if ch not in exclude)\n",
        "  def lower(text):\n",
        "    return text.lower()\n",
        "\n",
        "  return white_space_fix(remove_articles(remove_punc(lower(s))))\n",
        "\n",
        "def exact_match(prediction, truth):\n",
        "    return bool(normalize_text(prediction) == normalize_text(truth))\n",
        "\n",
        "def compute_f1(prediction, truth):\n",
        "  pred_tokens = normalize_text(prediction).split()\n",
        "  truth_tokens = normalize_text(truth).split()\n",
        "\n",
        "  # if either the prediction or the truth is no-answer then f1 = 1 if they agree, 0 otherwise\n",
        "  if len(pred_tokens) == 0 or len(truth_tokens) == 0:\n",
        "    return int(pred_tokens == truth_tokens)\n",
        "\n",
        "  common_tokens = set(pred_tokens) & set(truth_tokens)\n",
        "\n",
        "  # if there are no common tokens then f1 = 0\n",
        "  if len(common_tokens) == 0:\n",
        "    return 0\n",
        "\n",
        "  prec = len(common_tokens) / len(pred_tokens)\n",
        "  rec = len(common_tokens) / len(truth_tokens)\n",
        "\n",
        "  return round(2 * (prec * rec) / (prec + rec), 2)\n",
        "\n",
        "def question_answer(context, question,answer):\n",
        "  prediction = get_prediction(context,question)\n",
        "  em_score = exact_match(prediction, answer)\n",
        "  f1_score = compute_f1(prediction, answer)\n",
        "\n",
        "  print(f'Question: {question}')\n",
        "  print(f'Prediction: {prediction}')\n",
        "  print(f'True Answer: {answer}')\n",
        "  print(f'Exact match: {em_score}')\n",
        "  print(f'F1 score: {f1_score}\\n')"
      ]
    },
    {
      "cell_type": "code",
      "source": [
        "import jiwer\n",
        "\n",
        "model.eval()\n",
        "acc = []\n",
        "wer = []\n",
        "f1_scores=[]\n",
        "\n",
        "for batch in tqdm(valid_loader):\n",
        "    with torch.no_grad():\n",
        "        input_ids = batch['input_ids'].to(device)\n",
        "        attention_mask = batch['attention_mask'].to(device)\n",
        "        start_true = batch['start_positions'].to(device)\n",
        "        end_true = batch['end_positions'].to(device)\n",
        "\n",
        "        outputs = model(input_ids, attention_mask=attention_mask)\n",
        "\n",
        "        start_pred = torch.argmax(outputs['start_logits'], dim=1)\n",
        "        end_pred = torch.argmax(outputs['end_logits'], dim=1)\n",
        "\n",
        "        # Calculate accuracy\n",
        "        acc.append(((start_pred == start_true).sum() / len(start_pred)).item())\n",
        "        acc.append(((end_pred == end_true).sum() / len(end_pred)).item())\n",
        "\n",
        "        # Calculate WER\n",
        "        for i in range(len(start_true)):\n",
        "            true_text = tokenizer.decode(input_ids[i][start_true[i]:end_true[i]])\n",
        "            pred_text = tokenizer.decode(input_ids[i][start_pred[i]:end_pred[i]])\n",
        "            if true_text.strip() == \"\":\n",
        "                continue\n",
        "            wer.append(jiwer.wer(true_text, pred_text))\n",
        "            f1_scores.append(compute_f1(true_text, pred_text))\n",
        "acc = sum(acc) / len(acc)\n",
        "wer = sum(wer) / len(wer)\n",
        "\n",
        "print(f'Accuracy: {acc:.4f}')\n",
        "print(f'WER: {wer:.4f}')\n",
        "\n",
        "print(\"\\n\\nT/P\\tanswer_start\\tanswer_end\\n\")\n",
        "for i in range(len(start_true)):\n",
        "    print(f\"true\\t{start_true[i]}\\t{end_true[i]}\\n\"\n",
        "          f\"pred\\t{start_pred[i]}\\t{end_pred[i]}\")"
      ],
      "metadata": {
        "colab": {
          "base_uri": "https://localhost:8080/"
        },
        "id": "TKz1jrSFBT1T",
        "outputId": "bf6502be-d233-4f92-c146-196b29c06111"
      },
      "id": "TKz1jrSFBT1T",
      "execution_count": 27,
      "outputs": [
        {
          "output_type": "stream",
          "name": "stderr",
          "text": [
            "100%|██████████| 993/993 [07:21<00:00,  2.25it/s]"
          ]
        },
        {
          "output_type": "stream",
          "name": "stdout",
          "text": [
            "Accuracy: 0.0070\n",
            "WER: 10.7895\n",
            "\n",
            "\n",
            "T/P\tanswer_start\tanswer_end\n",
            "\n",
            "true\t59\t59\n",
            "pred\t489\t68\n",
            "true\t59\t60\n",
            "pred\t489\t68\n",
            "true\t59\t59\n",
            "pred\t489\t68\n"
          ]
        },
        {
          "output_type": "stream",
          "name": "stderr",
          "text": [
            "\n"
          ]
        }
      ]
    },
    {
      "cell_type": "code",
      "source": [
        "import numpy as np\n",
        "overall_f1_score = np.mean(f1_scores)\n",
        "print(overall_f1_score)"
      ],
      "metadata": {
        "colab": {
          "base_uri": "https://localhost:8080/"
        },
        "id": "o1qSyhoYCVdB",
        "outputId": "b91df6fa-3561-4391-b359-ac5e87d2b586"
      },
      "id": "o1qSyhoYCVdB",
      "execution_count": 28,
      "outputs": [
        {
          "output_type": "stream",
          "name": "stdout",
          "text": [
            "0.033115545835611444\n"
          ]
        }
      ]
    },
    {
      "cell_type": "code",
      "execution_count": 29,
      "id": "3f061395-e71b-4d7b-a319-1602a00abc32",
      "metadata": {
        "id": "3f061395-e71b-4d7b-a319-1602a00abc32"
      },
      "outputs": [],
      "source": [
        "def get_prediction(text, question):\n",
        "  inputs = tokenizer.encode_plus(question, text, return_tensors='pt',max_length=512, truncation=True).to(device)\n",
        "\n",
        "  outputs = model(**inputs)\n",
        "  answer_start = torch.argmax(outputs[0])\n",
        "  answer_end = torch.argmax(outputs[1]) + 1\n",
        "\n",
        "  answer = tokenizer.convert_tokens_to_string(tokenizer.convert_ids_to_tokens(inputs['input_ids'][0][answer_start:answer_end]))\n",
        "  return answer\n",
        "\n",
        "\n",
        "def prediction(contents,model):\n",
        "  predAnswers={}\n",
        "  for data in contents['data']:\n",
        "    for txt in data['paragraphs']:\n",
        "      text = txt['context']\n",
        "      for qa in txt['qas']:\n",
        "        qid = qa['id']\n",
        "        question = qa['question']\n",
        "        predAnswers[qid]=get_prediction(text,question)\n",
        "  return predAnswers\n",
        "\n",
        "with open(\"spoken_test-v1.1_WER44.json\", 'r') as j:\n",
        "     valContents = json.loads(j.read())\n",
        "     predAnswers=prediction(valContents,model)\n",
        "\n",
        "with open('results.txt', 'w') as convert_file:\n",
        "     convert_file.write(json.dumps(predAnswers))"
      ]
    },
    {
      "cell_type": "code",
      "source": [],
      "metadata": {
        "id": "-9z-1DfxBZRn"
      },
      "id": "-9z-1DfxBZRn",
      "execution_count": null,
      "outputs": []
    },
    {
      "cell_type": "code",
      "execution_count": 30,
      "id": "b554b069-b820-4089-a8eb-aeaa1276c91b",
      "metadata": {
        "id": "b554b069-b820-4089-a8eb-aeaa1276c91b"
      },
      "outputs": [],
      "source": [
        "def compute_wer(ground_truth, predicted):\n",
        "    \"\"\"\n",
        "    Compute Word Error Rate (WER) between ground truth and predicted text.\n",
        "    \"\"\"\n",
        "    # Convert both ground truth and predicted text to lists of words\n",
        "    ground_truth_words = ground_truth.split()\n",
        "    predicted_words = predicted.split()\n",
        "\n",
        "    # Create a matrix of size (len(ground_truth_words) + 1) x (len(predicted_words) + 1)\n",
        "    # and initialize the first row and column to 0, 1, 2, ..., len(predicted_words)\n",
        "    matrix = [[j for j in range(len(predicted_words) + 1)]]\n",
        "    matrix += [[i] + [0] * len(predicted_words) for i in range(1, len(ground_truth_words) + 1)]\n",
        "\n",
        "    # Fill in the rest of the matrix\n",
        "    for i in range(1, len(ground_truth_words) + 1):\n",
        "        for j in range(1, len(predicted_words) + 1):\n",
        "            if ground_truth_words[i - 1] == predicted_words[j - 1]:\n",
        "                matrix[i][j] = matrix[i - 1][j - 1]\n",
        "            else:\n",
        "                substitution = matrix[i - 1][j - 1] + 1\n",
        "                insertion = matrix[i][j - 1] + 1\n",
        "                deletion = matrix[i - 1][j] + 1\n",
        "                matrix[i][j] = min(substitution, insertion, deletion)\n",
        "\n",
        "    # Return the WER, which is the bottom-right element of the matrix divided by the length of the ground truth\n",
        "    return matrix[-1][-1] / len(ground_truth_words)\n"
      ]
    },
    {
      "cell_type": "code",
      "execution_count": null,
      "id": "b90d1fd0-64f4-4d75-a919-810bf246b161",
      "metadata": {
        "id": "b90d1fd0-64f4-4d75-a919-810bf246b161"
      },
      "outputs": [],
      "source": []
    },
    {
      "cell_type": "code",
      "execution_count": 31,
      "id": "521d0892-88df-4c13-b4a4-81e4b056acc2",
      "metadata": {
        "colab": {
          "base_uri": "https://localhost:8080/"
        },
        "id": "521d0892-88df-4c13-b4a4-81e4b056acc2",
        "outputId": "2acab070-c44c-496c-bde8-f426771e793e"
      },
      "outputs": [
        {
          "output_type": "stream",
          "name": "stdout",
          "text": [
            "Cumulative WER: 16.999713557810654\n"
          ]
        }
      ],
      "source": [
        "with open(\"spoken_test-v1.1_WER44.json\", 'r') as j:\n",
        "    valContents = json.loads(j.read())\n",
        "    predAnswers = prediction(valContents, model)\n",
        "\n",
        "totalWER = 0\n",
        "numQuestions = 0\n",
        "\n",
        "for qid, predAnswer in predAnswers.items():\n",
        "    for data in valContents['data']:\n",
        "        for txt in data['paragraphs']:\n",
        "            for qa in txt['qas']:\n",
        "                if qa['id'] == qid:\n",
        "                    groundTruth = qa['answers'][0]['text']\n",
        "                    wer = compute_wer(groundTruth, predAnswer)\n",
        "                    totalWER += wer\n",
        "                    numQuestions += 1\n",
        "                    break\n",
        "            else:\n",
        "                continue\n",
        "            break\n",
        "        else:\n",
        "            continue\n",
        "        break\n",
        "\n",
        "cumulativeWER = totalWER / numQuestions\n",
        "print(f\"Cumulative WER: {cumulativeWER}\")\n"
      ]
    },
    {
      "cell_type": "code",
      "execution_count": 32,
      "id": "efb51b76-7b0e-4ea2-b8b8-d26e71613280",
      "metadata": {
        "colab": {
          "base_uri": "https://localhost:8080/"
        },
        "id": "efb51b76-7b0e-4ea2-b8b8-d26e71613280",
        "outputId": "773677b1-67d9-469e-8828-3397bdcfd7bf"
      },
      "outputs": [
        {
          "output_type": "stream",
          "name": "stdout",
          "text": [
            "Cumulative WER: 18.72028442342969\n"
          ]
        }
      ],
      "source": [
        "with open(\"spoken_test-v1.1_WER54.json\", 'r') as j:\n",
        "    valContents = json.loads(j.read())\n",
        "    predAnswers = prediction(valContents, model)\n",
        "\n",
        "totalWER = 0\n",
        "numQuestions = 0\n",
        "\n",
        "for qid, predAnswer in predAnswers.items():\n",
        "    for data in valContents['data']:\n",
        "        for txt in data['paragraphs']:\n",
        "            for qa in txt['qas']:\n",
        "                if qa['id'] == qid:\n",
        "                    groundTruth = qa['answers'][0]['text']\n",
        "                    wer = compute_wer(groundTruth, predAnswer)\n",
        "                    totalWER += wer\n",
        "                    numQuestions += 1\n",
        "                    break\n",
        "            else:\n",
        "                continue\n",
        "            break\n",
        "        else:\n",
        "            continue\n",
        "        break\n",
        "\n",
        "cumulativeWER = totalWER / numQuestions\n",
        "print(f\"Cumulative WER: {cumulativeWER}\")\n"
      ]
    },
    {
      "cell_type": "code",
      "execution_count": 33,
      "id": "08ed74f4-9602-42ed-bc91-f44bad1e8206",
      "metadata": {
        "colab": {
          "base_uri": "https://localhost:8080/"
        },
        "id": "08ed74f4-9602-42ed-bc91-f44bad1e8206",
        "outputId": "d36dad84-e1a7-4109-890e-a84f1c08c10f"
      },
      "outputs": [
        {
          "output_type": "stream",
          "name": "stdout",
          "text": [
            "Question: For whom the passage is talking about?\n",
            "Prediction: ##selle knowles - carter ( / biːˈjɒnseɪ / bee - yon - say ) ( born september 4, 1981 ) is an american singer, songwriter, record producer and actress. born and raised in houston, texas, she performed in various singing and dancing competitions as a child, and rose to fame in the late 1990s as lead singer of r & b girl - group destiny\n",
            "True Answer: Beyonce Giselle Knowles - Carter\n",
            "Exact match: False\n",
            "F1 score: 0.07\n",
            "\n",
            "Question: When did Beyonce born?\n",
            "Prediction: ##selle knowles - carter ( / biːˈjɒnseɪ / bee - yon - say ) ( born september 4, 1981 ) is an american singer, songwriter, record producer and actress. born and raised in houston, texas, she performed in various singing and dancing competitions as a child, and rose to fame in the late 1990s as lead singer of r & b girl - group destiny\n",
            "True Answer: September 4, 1981\n",
            "Exact match: False\n",
            "F1 score: 0.11\n",
            "\n",
            "Question: Where did Beyonce born?\n",
            "Prediction: ##selle knowles - carter ( / biːˈjɒnseɪ / bee - yon - say ) ( born september 4, 1981 ) is an american singer, songwriter, record producer and actress. born and raised in houston, texas, she performed in various singing and dancing competitions as a child, and rose to fame in the late 1990s as lead singer of r & b girl - group destiny\n",
            "True Answer: Houston, Texas\n",
            "Exact match: False\n",
            "F1 score: 0.08\n",
            "\n",
            "Question: What is Beyonce's nationality?\n",
            "Prediction: ##selle knowles - carter ( / biːˈjɒnseɪ / bee - yon - say ) ( born september 4, 1981 ) is an american singer, songwriter, record producer and actress. born and raised in houston, texas, she performed in various singing and dancing competitions as a child, and rose to fame in the late 1990s as lead singer of r & b girl - group destiny\n",
            "True Answer: American\n",
            "Exact match: False\n",
            "F1 score: 0.04\n",
            "\n",
            "Question: Who was the Destiny's group manager?\n",
            "Prediction: ##selle knowles - carter ( / biːˈjɒnseɪ / bee - yon - say ) ( born september 4, 1981 ) is an american singer, songwriter, record producer and actress. born and raised in houston, texas, she performed in various singing and dancing competitions as a child, and rose to fame in the late 1990s as lead singer of r & b girl - group destiny ' s child. managed by her father, mathew knowles, the group became one of the world ' s best - selling girl groups of all time. their hiatus saw the release of beyonce ' s debut album, dangerously in love ( 2003 ), which established her as a solo artist worldwide, earned five grammy\n",
            "True Answer: Mathew Knowles\n",
            "Exact match: False\n",
            "F1 score: 0.04\n",
            "\n",
            "Question: What name has the Beyoncé's debut album?\n",
            "Prediction: ##selle knowles - carter ( / biːˈjɒnseɪ / bee - yon - say ) ( born september 4, 1981 ) is an american singer, songwriter, record producer and actress. born and raised in houston, texas, she performed in various singing and dancing competitions as a child, and rose to fame in the late 1990s as lead singer of r & b girl - group destiny ' s child. managed by her father, mathew knowles, the group became one of the world ' s best - selling girl groups of all time. their hiatus saw the release of beyonce ' s debut album, dangerously in love ( 2003 ), which established her as a solo artist worldwide, earned five grammy\n",
            "True Answer: Dangerously in Love\n",
            "Exact match: False\n",
            "F1 score: 0.06\n",
            "\n",
            "Question: How many Grammy Awards did Beyonce earn?\n",
            "Prediction: ##selle knowles - carter ( / biːˈjɒnseɪ / bee - yon - say ) ( born september 4, 1981 ) is an american singer, songwriter, record producer and actress. born and raised in houston, texas, she performed in various singing and dancing competitions as a child, and rose to fame in the late 1990s as lead singer of r & b girl - group destiny\n",
            "True Answer: five\n",
            "Exact match: False\n",
            "F1 score: 0\n",
            "\n",
            "Question: When did the Beyoncé's debut album release?\n",
            "Prediction: ##selle knowles - carter ( / biːˈjɒnseɪ / bee - yon - say ) ( born september 4, 1981 ) is an american singer, songwriter, record producer and actress. born and raised in houston, texas, she performed in various singing and dancing competitions as a child, and rose to fame in the late 1990s as lead singer of r & b girl - group destiny ' s child. managed by her father, mathew knowles, the group became one of the world ' s best - selling girl groups of all time. their hiatus saw the release of beyonce ' s debut album, dangerously in love ( 2003 ), which established her as a solo artist worldwide, earned five grammy\n",
            "True Answer: 2003\n",
            "Exact match: False\n",
            "F1 score: 0.02\n",
            "\n",
            "Question: Who was the lead singer of R&B girl-group Destiny's Child?\n",
            "Prediction: ##selle knowles - carter ( / biːˈjɒnseɪ / bee - yon - say ) ( born september 4, 1981 ) is an american singer, songwriter, record producer and actress. born and raised in houston, texas, she performed in various singing and dancing competitions as a child, and rose to fame in the late 1990s as lead singer of r & b girl - group destiny ' s child. managed by her father, mathew knowles, the group became one of the world ' s best - selling girl groups of all time. their hiatus saw the release of beyonce ' s debut album, dangerously in love ( 2003 ), which established her as a solo artist worldwide, earned five grammy\n",
            "True Answer: Beyonce Giselle Knowles - Carter\n",
            "Exact match: False\n",
            "F1 score: 0.06\n",
            "\n"
          ]
        }
      ],
      "source": [
        "context = \"\"\"Beyoncé Giselle Knowles-Carter (/biːˈjɒnseɪ/ bee-YON-say) (born September 4, 1981) is an American singer,\n",
        "          songwriter, record producer and actress. Born and raised in Houston, Texas, she performed in various singing\n",
        "          and dancing competitions as a child, and rose to fame in the late 1990s as lead singer of R&B girl-group Destiny\\'s Child.\n",
        "          Managed by her father, Mathew Knowles, the group became one of the world\\'s best-selling girl groups of all time.\n",
        "          Their hiatus saw the release of Beyoncé\\'s debut album, Dangerously in Love (2003), which established her as a solo artist worldwide,\n",
        "          earned five Grammy Awards and featured the Billboard Hot 100 number-one singles \"Crazy in Love\" and \"Baby Boy\".\"\"\"\n",
        "\n",
        "\n",
        "questions = [\"For whom the passage is talking about?\",\n",
        "             \"When did Beyonce born?\",\n",
        "             \"Where did Beyonce born?\",\n",
        "             \"What is Beyonce's nationality?\",\n",
        "             \"Who was the Destiny's group manager?\",\n",
        "             \"What name has the Beyoncé's debut album?\",\n",
        "             \"How many Grammy Awards did Beyonce earn?\",\n",
        "             \"When did the Beyoncé's debut album release?\",\n",
        "             \"Who was the lead singer of R&B girl-group Destiny's Child?\"]\n",
        "\n",
        "answers = [\"Beyonce Giselle Knowles - Carter\", \"September 4, 1981\", \"Houston, Texas\",\n",
        "           \"American\", \"Mathew Knowles\", \"Dangerously in Love\", \"five\", \"2003\",\n",
        "           \"Beyonce Giselle Knowles - Carter\"]\n",
        "\n",
        "for question, answer in zip(questions, answers):\n",
        "  question_answer(context, question, answer)"
      ]
    },
    {
      "cell_type": "code",
      "execution_count": 34,
      "id": "9611fcf3-e15c-4a2b-953a-8af1d4c6529e",
      "metadata": {
        "id": "9611fcf3-e15c-4a2b-953a-8af1d4c6529e",
        "outputId": "011e31bc-276a-4268-8dbf-adeafa64393d",
        "colab": {
          "base_uri": "https://localhost:8080/"
        }
      },
      "outputs": [
        {
          "output_type": "stream",
          "name": "stdout",
          "text": [
            "Question: Which is the largest city in Greece?\n",
            "Prediction: between the 11th and 7th millennium bc. classical athens was a powerful city - state. it was a center for the arts, learning and philosophy, and the home of plato ' s academy and aristotle ' s lyceum. it is widely referred to as the cradle of western civilization and the birthplace of democracy, largely because of its cultural\n",
            "True Answer: Athens\n",
            "Exact match: False\n",
            "F1 score: 0.04\n",
            "\n",
            "Question: For what was the Athens center?\n",
            "Prediction: between the 11th and 7th millennium bc. classical athens was a powerful city - state. it was a center for the arts, learning and philosophy, and the home of plato ' s academy and aristotle ' s lyceum. it is widely referred to as the cradle of western civilization and the birthplace of democracy, largely because of its cultural\n",
            "True Answer: center for the arts, learning and philosophy\n",
            "Exact match: False\n",
            "F1 score: 0.22\n",
            "\n",
            "Question: Which city was the home of Plato's Academy?\n",
            "Prediction: between the 11th and 7th millennium bc. classical athens was a powerful city - state. it was a center for the arts, learning and philosophy, and the home of plato ' s academy and aristotle ' s lyceum. it is widely referred to as the cradle of western civilization and the birthplace of democracy, largely because of its cultural\n",
            "True Answer: Athens\n",
            "Exact match: False\n",
            "F1 score: 0.04\n",
            "\n"
          ]
        }
      ],
      "source": [
        "context = \"\"\"Athens is the capital and largest city of Greece. Athens dominates the Attica region and is one of the world's oldest cities,\n",
        "             with its recorded history spanning over 3,400 years and its earliest human presence starting somewhere between the 11th and 7th millennium BC.\n",
        "             Classical Athens was a powerful city-state. It was a center for the arts, learning and philosophy, and the home of Plato's Academy and Aristotle's Lyceum.\n",
        "             It is widely referred to as the cradle of Western civilization and the birthplace of democracy, largely because of its cultural and political impact on the European continent—particularly Ancient Rome.\n",
        "             In modern times, Athens is a large cosmopolitan metropolis and central to economic, financial, industrial, maritime, political and cultural life in Greece.\n",
        "             In 2021, Athens' urban area hosted more than three and a half million people, which is around 35% of the entire population of Greece.\n",
        "             Athens is a Beta global city according to the Globalization and World Cities Research Network, and is one of the biggest economic centers in Southeastern Europe.\n",
        "             It also has a large financial sector, and its port Piraeus is both the largest passenger port in Europe, and the second largest in the world.\"\"\"\n",
        "\n",
        "questions = [\"Which is the largest city in Greece?\",\n",
        "             \"For what was the Athens center?\",\n",
        "             \"Which city was the home of Plato's Academy?\"]\n",
        "\n",
        "answers = [\"Athens\", \"center for the arts, learning and philosophy\", \"Athens\"]\n",
        "\n",
        "for question, answer in zip(questions, answers):\n",
        "  question_answer(context, question, answer)\n",
        ""
      ]
    },
    {
      "cell_type": "code",
      "execution_count": 35,
      "id": "48e0f968-a992-4b51-bd88-30b86bf928d9",
      "metadata": {
        "colab": {
          "base_uri": "https://localhost:8080/"
        },
        "id": "48e0f968-a992-4b51-bd88-30b86bf928d9",
        "outputId": "f396f3ab-c95f-42ac-c98c-60a0fe40d782"
      },
      "outputs": [
        {
          "output_type": "stream",
          "name": "stdout",
          "text": [
            "Question: When did Angelos born?\n",
            "Prediction: angelos born? [SEP] angelos poulis was born on 8 april 2001 in nicosia, cyprus. he is half cypriot\n",
            "True Answer: 8 April 2001\n",
            "Exact match: False\n",
            "F1 score: 0.29\n",
            "\n",
            "Question: In what university is Angelos studying now?\n",
            "Prediction: \n",
            "True Answer: University of Athens\n",
            "Exact match: False\n",
            "F1 score: 0\n",
            "\n",
            "Question: What is Angelos' nationality?\n",
            "Prediction: angelos ' nationality? [SEP] angelos poulis was born on 8 april 2001 in nicosia, cyprus. he is half cypriot\n",
            "True Answer: half Cypriot and half Greek\n",
            "Exact match: False\n",
            "F1 score: 0.17\n",
            "\n",
            "Question: What are his scientific interests?\n",
            "Prediction: \n",
            "True Answer: Artificial Intelligence\n",
            "Exact match: False\n",
            "F1 score: 0\n",
            "\n",
            "Question: What I will do right now?\n",
            "Prediction: \n",
            "True Answer: stop talking about me\n",
            "Exact match: False\n",
            "F1 score: 0\n",
            "\n"
          ]
        }
      ],
      "source": [
        "context = \"\"\"Angelos Poulis was born on 8 April 2001 in Nicosia, Cyprus. He is half Cypriot and half Greek.\n",
        "            He is currently studying at the Department of Informatics and Telecommunications of the University of Athens in Greece.\n",
        "            His scientific interests are in the broad field of Artificial Intelligence and he loves to train neural networks!\n",
        "            Okay, I'm Angelos and I'll stop talking about me right now.\"\"\"\n",
        "\n",
        "questions = [\"When did Angelos born?\",\n",
        "             \"In what university is Angelos studying now?\",\n",
        "             \"What is Angelos' nationality?\",\n",
        "             \"What are his scientific interests?\",\n",
        "             \"What I will do right now?\"]\n",
        "\n",
        "answers = [\"8 April 2001\", \"University of Athens\",\n",
        "           \"half Cypriot and half Greek\", \"Artificial Intelligence\",\n",
        "           \"stop talking about me\"]\n",
        "\n",
        "for question, answer in zip(questions, answers):\n",
        "  question_answer(context, question, answer)"
      ]
    },
    {
      "cell_type": "code",
      "execution_count": null,
      "id": "d8d11675-cb5a-493c-be69-5a2c5b16b9f1",
      "metadata": {
        "id": "d8d11675-cb5a-493c-be69-5a2c5b16b9f1"
      },
      "outputs": [],
      "source": []
    },
    {
      "cell_type": "code",
      "execution_count": null,
      "id": "f8ad5acf-8d41-46c6-b603-f53e0abd4a17",
      "metadata": {
        "id": "f8ad5acf-8d41-46c6-b603-f53e0abd4a17"
      },
      "outputs": [],
      "source": []
    },
    {
      "cell_type": "code",
      "execution_count": null,
      "id": "41c254fa",
      "metadata": {
        "id": "41c254fa"
      },
      "outputs": [],
      "source": []
    }
  ],
  "metadata": {
    "kernelspec": {
      "display_name": "Python 3 (ipykernel)",
      "language": "python",
      "name": "python3"
    },
    "language_info": {
      "codemirror_mode": {
        "name": "ipython",
        "version": 3
      },
      "file_extension": ".py",
      "mimetype": "text/x-python",
      "name": "python",
      "nbconvert_exporter": "python",
      "pygments_lexer": "ipython3",
      "version": "3.9.7"
    },
    "colab": {
      "provenance": [],
      "toc_visible": true
    },
    "accelerator": "GPU",
    "gpuClass": "standard",
    "widgets": {
      "application/vnd.jupyter.widget-state+json": {
        "6a276de7a77f4b65a4833957d4684943": {
          "model_module": "@jupyter-widgets/controls",
          "model_name": "HBoxModel",
          "model_module_version": "1.5.0",
          "state": {
            "_dom_classes": [],
            "_model_module": "@jupyter-widgets/controls",
            "_model_module_version": "1.5.0",
            "_model_name": "HBoxModel",
            "_view_count": null,
            "_view_module": "@jupyter-widgets/controls",
            "_view_module_version": "1.5.0",
            "_view_name": "HBoxView",
            "box_style": "",
            "children": [
              "IPY_MODEL_2f3d778b495a48f4a4223bc377171811",
              "IPY_MODEL_6b449e10ecb149ab8c0b965ee9293338",
              "IPY_MODEL_9175da4328c745acb7bbb9e6ab2b24eb"
            ],
            "layout": "IPY_MODEL_1f7865955918484b989eb56cd937c815"
          }
        },
        "2f3d778b495a48f4a4223bc377171811": {
          "model_module": "@jupyter-widgets/controls",
          "model_name": "HTMLModel",
          "model_module_version": "1.5.0",
          "state": {
            "_dom_classes": [],
            "_model_module": "@jupyter-widgets/controls",
            "_model_module_version": "1.5.0",
            "_model_name": "HTMLModel",
            "_view_count": null,
            "_view_module": "@jupyter-widgets/controls",
            "_view_module_version": "1.5.0",
            "_view_name": "HTMLView",
            "description": "",
            "description_tooltip": null,
            "layout": "IPY_MODEL_5a4f42c8002d4c879e80ea7aacc21eb7",
            "placeholder": "​",
            "style": "IPY_MODEL_a6aa6a6c655246bbb6dbe076669cd700",
            "value": "tokenizer_config.json: 100%"
          }
        },
        "6b449e10ecb149ab8c0b965ee9293338": {
          "model_module": "@jupyter-widgets/controls",
          "model_name": "FloatProgressModel",
          "model_module_version": "1.5.0",
          "state": {
            "_dom_classes": [],
            "_model_module": "@jupyter-widgets/controls",
            "_model_module_version": "1.5.0",
            "_model_name": "FloatProgressModel",
            "_view_count": null,
            "_view_module": "@jupyter-widgets/controls",
            "_view_module_version": "1.5.0",
            "_view_name": "ProgressView",
            "bar_style": "success",
            "description": "",
            "description_tooltip": null,
            "layout": "IPY_MODEL_354c5301e99440979957b7046cec308c",
            "max": 48,
            "min": 0,
            "orientation": "horizontal",
            "style": "IPY_MODEL_3681ba6c40074b81a370786a4bee9239",
            "value": 48
          }
        },
        "9175da4328c745acb7bbb9e6ab2b24eb": {
          "model_module": "@jupyter-widgets/controls",
          "model_name": "HTMLModel",
          "model_module_version": "1.5.0",
          "state": {
            "_dom_classes": [],
            "_model_module": "@jupyter-widgets/controls",
            "_model_module_version": "1.5.0",
            "_model_name": "HTMLModel",
            "_view_count": null,
            "_view_module": "@jupyter-widgets/controls",
            "_view_module_version": "1.5.0",
            "_view_name": "HTMLView",
            "description": "",
            "description_tooltip": null,
            "layout": "IPY_MODEL_147b1e3e19814570bd86b79bad0b03ca",
            "placeholder": "​",
            "style": "IPY_MODEL_5bf3e8f7d5ef4c888dd91f6f81a10d47",
            "value": " 48.0/48.0 [00:00&lt;00:00, 1.29kB/s]"
          }
        },
        "1f7865955918484b989eb56cd937c815": {
          "model_module": "@jupyter-widgets/base",
          "model_name": "LayoutModel",
          "model_module_version": "1.2.0",
          "state": {
            "_model_module": "@jupyter-widgets/base",
            "_model_module_version": "1.2.0",
            "_model_name": "LayoutModel",
            "_view_count": null,
            "_view_module": "@jupyter-widgets/base",
            "_view_module_version": "1.2.0",
            "_view_name": "LayoutView",
            "align_content": null,
            "align_items": null,
            "align_self": null,
            "border": null,
            "bottom": null,
            "display": null,
            "flex": null,
            "flex_flow": null,
            "grid_area": null,
            "grid_auto_columns": null,
            "grid_auto_flow": null,
            "grid_auto_rows": null,
            "grid_column": null,
            "grid_gap": null,
            "grid_row": null,
            "grid_template_areas": null,
            "grid_template_columns": null,
            "grid_template_rows": null,
            "height": null,
            "justify_content": null,
            "justify_items": null,
            "left": null,
            "margin": null,
            "max_height": null,
            "max_width": null,
            "min_height": null,
            "min_width": null,
            "object_fit": null,
            "object_position": null,
            "order": null,
            "overflow": null,
            "overflow_x": null,
            "overflow_y": null,
            "padding": null,
            "right": null,
            "top": null,
            "visibility": null,
            "width": null
          }
        },
        "5a4f42c8002d4c879e80ea7aacc21eb7": {
          "model_module": "@jupyter-widgets/base",
          "model_name": "LayoutModel",
          "model_module_version": "1.2.0",
          "state": {
            "_model_module": "@jupyter-widgets/base",
            "_model_module_version": "1.2.0",
            "_model_name": "LayoutModel",
            "_view_count": null,
            "_view_module": "@jupyter-widgets/base",
            "_view_module_version": "1.2.0",
            "_view_name": "LayoutView",
            "align_content": null,
            "align_items": null,
            "align_self": null,
            "border": null,
            "bottom": null,
            "display": null,
            "flex": null,
            "flex_flow": null,
            "grid_area": null,
            "grid_auto_columns": null,
            "grid_auto_flow": null,
            "grid_auto_rows": null,
            "grid_column": null,
            "grid_gap": null,
            "grid_row": null,
            "grid_template_areas": null,
            "grid_template_columns": null,
            "grid_template_rows": null,
            "height": null,
            "justify_content": null,
            "justify_items": null,
            "left": null,
            "margin": null,
            "max_height": null,
            "max_width": null,
            "min_height": null,
            "min_width": null,
            "object_fit": null,
            "object_position": null,
            "order": null,
            "overflow": null,
            "overflow_x": null,
            "overflow_y": null,
            "padding": null,
            "right": null,
            "top": null,
            "visibility": null,
            "width": null
          }
        },
        "a6aa6a6c655246bbb6dbe076669cd700": {
          "model_module": "@jupyter-widgets/controls",
          "model_name": "DescriptionStyleModel",
          "model_module_version": "1.5.0",
          "state": {
            "_model_module": "@jupyter-widgets/controls",
            "_model_module_version": "1.5.0",
            "_model_name": "DescriptionStyleModel",
            "_view_count": null,
            "_view_module": "@jupyter-widgets/base",
            "_view_module_version": "1.2.0",
            "_view_name": "StyleView",
            "description_width": ""
          }
        },
        "354c5301e99440979957b7046cec308c": {
          "model_module": "@jupyter-widgets/base",
          "model_name": "LayoutModel",
          "model_module_version": "1.2.0",
          "state": {
            "_model_module": "@jupyter-widgets/base",
            "_model_module_version": "1.2.0",
            "_model_name": "LayoutModel",
            "_view_count": null,
            "_view_module": "@jupyter-widgets/base",
            "_view_module_version": "1.2.0",
            "_view_name": "LayoutView",
            "align_content": null,
            "align_items": null,
            "align_self": null,
            "border": null,
            "bottom": null,
            "display": null,
            "flex": null,
            "flex_flow": null,
            "grid_area": null,
            "grid_auto_columns": null,
            "grid_auto_flow": null,
            "grid_auto_rows": null,
            "grid_column": null,
            "grid_gap": null,
            "grid_row": null,
            "grid_template_areas": null,
            "grid_template_columns": null,
            "grid_template_rows": null,
            "height": null,
            "justify_content": null,
            "justify_items": null,
            "left": null,
            "margin": null,
            "max_height": null,
            "max_width": null,
            "min_height": null,
            "min_width": null,
            "object_fit": null,
            "object_position": null,
            "order": null,
            "overflow": null,
            "overflow_x": null,
            "overflow_y": null,
            "padding": null,
            "right": null,
            "top": null,
            "visibility": null,
            "width": null
          }
        },
        "3681ba6c40074b81a370786a4bee9239": {
          "model_module": "@jupyter-widgets/controls",
          "model_name": "ProgressStyleModel",
          "model_module_version": "1.5.0",
          "state": {
            "_model_module": "@jupyter-widgets/controls",
            "_model_module_version": "1.5.0",
            "_model_name": "ProgressStyleModel",
            "_view_count": null,
            "_view_module": "@jupyter-widgets/base",
            "_view_module_version": "1.2.0",
            "_view_name": "StyleView",
            "bar_color": null,
            "description_width": ""
          }
        },
        "147b1e3e19814570bd86b79bad0b03ca": {
          "model_module": "@jupyter-widgets/base",
          "model_name": "LayoutModel",
          "model_module_version": "1.2.0",
          "state": {
            "_model_module": "@jupyter-widgets/base",
            "_model_module_version": "1.2.0",
            "_model_name": "LayoutModel",
            "_view_count": null,
            "_view_module": "@jupyter-widgets/base",
            "_view_module_version": "1.2.0",
            "_view_name": "LayoutView",
            "align_content": null,
            "align_items": null,
            "align_self": null,
            "border": null,
            "bottom": null,
            "display": null,
            "flex": null,
            "flex_flow": null,
            "grid_area": null,
            "grid_auto_columns": null,
            "grid_auto_flow": null,
            "grid_auto_rows": null,
            "grid_column": null,
            "grid_gap": null,
            "grid_row": null,
            "grid_template_areas": null,
            "grid_template_columns": null,
            "grid_template_rows": null,
            "height": null,
            "justify_content": null,
            "justify_items": null,
            "left": null,
            "margin": null,
            "max_height": null,
            "max_width": null,
            "min_height": null,
            "min_width": null,
            "object_fit": null,
            "object_position": null,
            "order": null,
            "overflow": null,
            "overflow_x": null,
            "overflow_y": null,
            "padding": null,
            "right": null,
            "top": null,
            "visibility": null,
            "width": null
          }
        },
        "5bf3e8f7d5ef4c888dd91f6f81a10d47": {
          "model_module": "@jupyter-widgets/controls",
          "model_name": "DescriptionStyleModel",
          "model_module_version": "1.5.0",
          "state": {
            "_model_module": "@jupyter-widgets/controls",
            "_model_module_version": "1.5.0",
            "_model_name": "DescriptionStyleModel",
            "_view_count": null,
            "_view_module": "@jupyter-widgets/base",
            "_view_module_version": "1.2.0",
            "_view_name": "StyleView",
            "description_width": ""
          }
        },
        "9c004b70635e4e03bb06f931b21b9177": {
          "model_module": "@jupyter-widgets/controls",
          "model_name": "HBoxModel",
          "model_module_version": "1.5.0",
          "state": {
            "_dom_classes": [],
            "_model_module": "@jupyter-widgets/controls",
            "_model_module_version": "1.5.0",
            "_model_name": "HBoxModel",
            "_view_count": null,
            "_view_module": "@jupyter-widgets/controls",
            "_view_module_version": "1.5.0",
            "_view_name": "HBoxView",
            "box_style": "",
            "children": [
              "IPY_MODEL_d54853d94ee64977a2f5fa9a1fd0fd99",
              "IPY_MODEL_006591e005404b58a41f4b3ff7d3b864",
              "IPY_MODEL_c19dfb6a443d4b06a52c7fa79b027c9c"
            ],
            "layout": "IPY_MODEL_8d74fa2b72b64ef895327b3a5089d97a"
          }
        },
        "d54853d94ee64977a2f5fa9a1fd0fd99": {
          "model_module": "@jupyter-widgets/controls",
          "model_name": "HTMLModel",
          "model_module_version": "1.5.0",
          "state": {
            "_dom_classes": [],
            "_model_module": "@jupyter-widgets/controls",
            "_model_module_version": "1.5.0",
            "_model_name": "HTMLModel",
            "_view_count": null,
            "_view_module": "@jupyter-widgets/controls",
            "_view_module_version": "1.5.0",
            "_view_name": "HTMLView",
            "description": "",
            "description_tooltip": null,
            "layout": "IPY_MODEL_283d28ac637c4d6fb1587a01b0b1cfab",
            "placeholder": "​",
            "style": "IPY_MODEL_ecb0cf03aacf4fffb4872a9a8ca87835",
            "value": "vocab.txt: 100%"
          }
        },
        "006591e005404b58a41f4b3ff7d3b864": {
          "model_module": "@jupyter-widgets/controls",
          "model_name": "FloatProgressModel",
          "model_module_version": "1.5.0",
          "state": {
            "_dom_classes": [],
            "_model_module": "@jupyter-widgets/controls",
            "_model_module_version": "1.5.0",
            "_model_name": "FloatProgressModel",
            "_view_count": null,
            "_view_module": "@jupyter-widgets/controls",
            "_view_module_version": "1.5.0",
            "_view_name": "ProgressView",
            "bar_style": "success",
            "description": "",
            "description_tooltip": null,
            "layout": "IPY_MODEL_efff7f512fc54ce3af692ed259e71d9d",
            "max": 231508,
            "min": 0,
            "orientation": "horizontal",
            "style": "IPY_MODEL_d95b6c4c5eb84e13ae1a0642653aa783",
            "value": 231508
          }
        },
        "c19dfb6a443d4b06a52c7fa79b027c9c": {
          "model_module": "@jupyter-widgets/controls",
          "model_name": "HTMLModel",
          "model_module_version": "1.5.0",
          "state": {
            "_dom_classes": [],
            "_model_module": "@jupyter-widgets/controls",
            "_model_module_version": "1.5.0",
            "_model_name": "HTMLModel",
            "_view_count": null,
            "_view_module": "@jupyter-widgets/controls",
            "_view_module_version": "1.5.0",
            "_view_name": "HTMLView",
            "description": "",
            "description_tooltip": null,
            "layout": "IPY_MODEL_f498ec11e299417c852db5b4bdf94b7d",
            "placeholder": "​",
            "style": "IPY_MODEL_c81a9117f4554763a71380da0c383a6b",
            "value": " 232k/232k [00:00&lt;00:00, 2.72MB/s]"
          }
        },
        "8d74fa2b72b64ef895327b3a5089d97a": {
          "model_module": "@jupyter-widgets/base",
          "model_name": "LayoutModel",
          "model_module_version": "1.2.0",
          "state": {
            "_model_module": "@jupyter-widgets/base",
            "_model_module_version": "1.2.0",
            "_model_name": "LayoutModel",
            "_view_count": null,
            "_view_module": "@jupyter-widgets/base",
            "_view_module_version": "1.2.0",
            "_view_name": "LayoutView",
            "align_content": null,
            "align_items": null,
            "align_self": null,
            "border": null,
            "bottom": null,
            "display": null,
            "flex": null,
            "flex_flow": null,
            "grid_area": null,
            "grid_auto_columns": null,
            "grid_auto_flow": null,
            "grid_auto_rows": null,
            "grid_column": null,
            "grid_gap": null,
            "grid_row": null,
            "grid_template_areas": null,
            "grid_template_columns": null,
            "grid_template_rows": null,
            "height": null,
            "justify_content": null,
            "justify_items": null,
            "left": null,
            "margin": null,
            "max_height": null,
            "max_width": null,
            "min_height": null,
            "min_width": null,
            "object_fit": null,
            "object_position": null,
            "order": null,
            "overflow": null,
            "overflow_x": null,
            "overflow_y": null,
            "padding": null,
            "right": null,
            "top": null,
            "visibility": null,
            "width": null
          }
        },
        "283d28ac637c4d6fb1587a01b0b1cfab": {
          "model_module": "@jupyter-widgets/base",
          "model_name": "LayoutModel",
          "model_module_version": "1.2.0",
          "state": {
            "_model_module": "@jupyter-widgets/base",
            "_model_module_version": "1.2.0",
            "_model_name": "LayoutModel",
            "_view_count": null,
            "_view_module": "@jupyter-widgets/base",
            "_view_module_version": "1.2.0",
            "_view_name": "LayoutView",
            "align_content": null,
            "align_items": null,
            "align_self": null,
            "border": null,
            "bottom": null,
            "display": null,
            "flex": null,
            "flex_flow": null,
            "grid_area": null,
            "grid_auto_columns": null,
            "grid_auto_flow": null,
            "grid_auto_rows": null,
            "grid_column": null,
            "grid_gap": null,
            "grid_row": null,
            "grid_template_areas": null,
            "grid_template_columns": null,
            "grid_template_rows": null,
            "height": null,
            "justify_content": null,
            "justify_items": null,
            "left": null,
            "margin": null,
            "max_height": null,
            "max_width": null,
            "min_height": null,
            "min_width": null,
            "object_fit": null,
            "object_position": null,
            "order": null,
            "overflow": null,
            "overflow_x": null,
            "overflow_y": null,
            "padding": null,
            "right": null,
            "top": null,
            "visibility": null,
            "width": null
          }
        },
        "ecb0cf03aacf4fffb4872a9a8ca87835": {
          "model_module": "@jupyter-widgets/controls",
          "model_name": "DescriptionStyleModel",
          "model_module_version": "1.5.0",
          "state": {
            "_model_module": "@jupyter-widgets/controls",
            "_model_module_version": "1.5.0",
            "_model_name": "DescriptionStyleModel",
            "_view_count": null,
            "_view_module": "@jupyter-widgets/base",
            "_view_module_version": "1.2.0",
            "_view_name": "StyleView",
            "description_width": ""
          }
        },
        "efff7f512fc54ce3af692ed259e71d9d": {
          "model_module": "@jupyter-widgets/base",
          "model_name": "LayoutModel",
          "model_module_version": "1.2.0",
          "state": {
            "_model_module": "@jupyter-widgets/base",
            "_model_module_version": "1.2.0",
            "_model_name": "LayoutModel",
            "_view_count": null,
            "_view_module": "@jupyter-widgets/base",
            "_view_module_version": "1.2.0",
            "_view_name": "LayoutView",
            "align_content": null,
            "align_items": null,
            "align_self": null,
            "border": null,
            "bottom": null,
            "display": null,
            "flex": null,
            "flex_flow": null,
            "grid_area": null,
            "grid_auto_columns": null,
            "grid_auto_flow": null,
            "grid_auto_rows": null,
            "grid_column": null,
            "grid_gap": null,
            "grid_row": null,
            "grid_template_areas": null,
            "grid_template_columns": null,
            "grid_template_rows": null,
            "height": null,
            "justify_content": null,
            "justify_items": null,
            "left": null,
            "margin": null,
            "max_height": null,
            "max_width": null,
            "min_height": null,
            "min_width": null,
            "object_fit": null,
            "object_position": null,
            "order": null,
            "overflow": null,
            "overflow_x": null,
            "overflow_y": null,
            "padding": null,
            "right": null,
            "top": null,
            "visibility": null,
            "width": null
          }
        },
        "d95b6c4c5eb84e13ae1a0642653aa783": {
          "model_module": "@jupyter-widgets/controls",
          "model_name": "ProgressStyleModel",
          "model_module_version": "1.5.0",
          "state": {
            "_model_module": "@jupyter-widgets/controls",
            "_model_module_version": "1.5.0",
            "_model_name": "ProgressStyleModel",
            "_view_count": null,
            "_view_module": "@jupyter-widgets/base",
            "_view_module_version": "1.2.0",
            "_view_name": "StyleView",
            "bar_color": null,
            "description_width": ""
          }
        },
        "f498ec11e299417c852db5b4bdf94b7d": {
          "model_module": "@jupyter-widgets/base",
          "model_name": "LayoutModel",
          "model_module_version": "1.2.0",
          "state": {
            "_model_module": "@jupyter-widgets/base",
            "_model_module_version": "1.2.0",
            "_model_name": "LayoutModel",
            "_view_count": null,
            "_view_module": "@jupyter-widgets/base",
            "_view_module_version": "1.2.0",
            "_view_name": "LayoutView",
            "align_content": null,
            "align_items": null,
            "align_self": null,
            "border": null,
            "bottom": null,
            "display": null,
            "flex": null,
            "flex_flow": null,
            "grid_area": null,
            "grid_auto_columns": null,
            "grid_auto_flow": null,
            "grid_auto_rows": null,
            "grid_column": null,
            "grid_gap": null,
            "grid_row": null,
            "grid_template_areas": null,
            "grid_template_columns": null,
            "grid_template_rows": null,
            "height": null,
            "justify_content": null,
            "justify_items": null,
            "left": null,
            "margin": null,
            "max_height": null,
            "max_width": null,
            "min_height": null,
            "min_width": null,
            "object_fit": null,
            "object_position": null,
            "order": null,
            "overflow": null,
            "overflow_x": null,
            "overflow_y": null,
            "padding": null,
            "right": null,
            "top": null,
            "visibility": null,
            "width": null
          }
        },
        "c81a9117f4554763a71380da0c383a6b": {
          "model_module": "@jupyter-widgets/controls",
          "model_name": "DescriptionStyleModel",
          "model_module_version": "1.5.0",
          "state": {
            "_model_module": "@jupyter-widgets/controls",
            "_model_module_version": "1.5.0",
            "_model_name": "DescriptionStyleModel",
            "_view_count": null,
            "_view_module": "@jupyter-widgets/base",
            "_view_module_version": "1.2.0",
            "_view_name": "StyleView",
            "description_width": ""
          }
        },
        "4f931155a7c0425fb93419f6c35bc78e": {
          "model_module": "@jupyter-widgets/controls",
          "model_name": "HBoxModel",
          "model_module_version": "1.5.0",
          "state": {
            "_dom_classes": [],
            "_model_module": "@jupyter-widgets/controls",
            "_model_module_version": "1.5.0",
            "_model_name": "HBoxModel",
            "_view_count": null,
            "_view_module": "@jupyter-widgets/controls",
            "_view_module_version": "1.5.0",
            "_view_name": "HBoxView",
            "box_style": "",
            "children": [
              "IPY_MODEL_cf6e6e2dc72e44e7905475d4632df05c",
              "IPY_MODEL_b4bd532f7efa43a5ad0dcd943b0b65a9",
              "IPY_MODEL_20eecd56faf14b63b0bdff710515d09b"
            ],
            "layout": "IPY_MODEL_9ab1e20aa3ef480f98a67e2938b59cbb"
          }
        },
        "cf6e6e2dc72e44e7905475d4632df05c": {
          "model_module": "@jupyter-widgets/controls",
          "model_name": "HTMLModel",
          "model_module_version": "1.5.0",
          "state": {
            "_dom_classes": [],
            "_model_module": "@jupyter-widgets/controls",
            "_model_module_version": "1.5.0",
            "_model_name": "HTMLModel",
            "_view_count": null,
            "_view_module": "@jupyter-widgets/controls",
            "_view_module_version": "1.5.0",
            "_view_name": "HTMLView",
            "description": "",
            "description_tooltip": null,
            "layout": "IPY_MODEL_9bdcb67ac4f147a3bde7412792447530",
            "placeholder": "​",
            "style": "IPY_MODEL_cfada1a51ba74df9820e504e59680c8a",
            "value": "tokenizer.json: 100%"
          }
        },
        "b4bd532f7efa43a5ad0dcd943b0b65a9": {
          "model_module": "@jupyter-widgets/controls",
          "model_name": "FloatProgressModel",
          "model_module_version": "1.5.0",
          "state": {
            "_dom_classes": [],
            "_model_module": "@jupyter-widgets/controls",
            "_model_module_version": "1.5.0",
            "_model_name": "FloatProgressModel",
            "_view_count": null,
            "_view_module": "@jupyter-widgets/controls",
            "_view_module_version": "1.5.0",
            "_view_name": "ProgressView",
            "bar_style": "success",
            "description": "",
            "description_tooltip": null,
            "layout": "IPY_MODEL_2e4e83c4d2244dc7bb8cc75a7f8e3033",
            "max": 466062,
            "min": 0,
            "orientation": "horizontal",
            "style": "IPY_MODEL_41929ea0454b455db32bb54ca90bd7ab",
            "value": 466062
          }
        },
        "20eecd56faf14b63b0bdff710515d09b": {
          "model_module": "@jupyter-widgets/controls",
          "model_name": "HTMLModel",
          "model_module_version": "1.5.0",
          "state": {
            "_dom_classes": [],
            "_model_module": "@jupyter-widgets/controls",
            "_model_module_version": "1.5.0",
            "_model_name": "HTMLModel",
            "_view_count": null,
            "_view_module": "@jupyter-widgets/controls",
            "_view_module_version": "1.5.0",
            "_view_name": "HTMLView",
            "description": "",
            "description_tooltip": null,
            "layout": "IPY_MODEL_3e70b723b9f54a91bc8383ed732d8792",
            "placeholder": "​",
            "style": "IPY_MODEL_a4d111def9d74e33abbe45bcda892750",
            "value": " 466k/466k [00:00&lt;00:00, 5.73MB/s]"
          }
        },
        "9ab1e20aa3ef480f98a67e2938b59cbb": {
          "model_module": "@jupyter-widgets/base",
          "model_name": "LayoutModel",
          "model_module_version": "1.2.0",
          "state": {
            "_model_module": "@jupyter-widgets/base",
            "_model_module_version": "1.2.0",
            "_model_name": "LayoutModel",
            "_view_count": null,
            "_view_module": "@jupyter-widgets/base",
            "_view_module_version": "1.2.0",
            "_view_name": "LayoutView",
            "align_content": null,
            "align_items": null,
            "align_self": null,
            "border": null,
            "bottom": null,
            "display": null,
            "flex": null,
            "flex_flow": null,
            "grid_area": null,
            "grid_auto_columns": null,
            "grid_auto_flow": null,
            "grid_auto_rows": null,
            "grid_column": null,
            "grid_gap": null,
            "grid_row": null,
            "grid_template_areas": null,
            "grid_template_columns": null,
            "grid_template_rows": null,
            "height": null,
            "justify_content": null,
            "justify_items": null,
            "left": null,
            "margin": null,
            "max_height": null,
            "max_width": null,
            "min_height": null,
            "min_width": null,
            "object_fit": null,
            "object_position": null,
            "order": null,
            "overflow": null,
            "overflow_x": null,
            "overflow_y": null,
            "padding": null,
            "right": null,
            "top": null,
            "visibility": null,
            "width": null
          }
        },
        "9bdcb67ac4f147a3bde7412792447530": {
          "model_module": "@jupyter-widgets/base",
          "model_name": "LayoutModel",
          "model_module_version": "1.2.0",
          "state": {
            "_model_module": "@jupyter-widgets/base",
            "_model_module_version": "1.2.0",
            "_model_name": "LayoutModel",
            "_view_count": null,
            "_view_module": "@jupyter-widgets/base",
            "_view_module_version": "1.2.0",
            "_view_name": "LayoutView",
            "align_content": null,
            "align_items": null,
            "align_self": null,
            "border": null,
            "bottom": null,
            "display": null,
            "flex": null,
            "flex_flow": null,
            "grid_area": null,
            "grid_auto_columns": null,
            "grid_auto_flow": null,
            "grid_auto_rows": null,
            "grid_column": null,
            "grid_gap": null,
            "grid_row": null,
            "grid_template_areas": null,
            "grid_template_columns": null,
            "grid_template_rows": null,
            "height": null,
            "justify_content": null,
            "justify_items": null,
            "left": null,
            "margin": null,
            "max_height": null,
            "max_width": null,
            "min_height": null,
            "min_width": null,
            "object_fit": null,
            "object_position": null,
            "order": null,
            "overflow": null,
            "overflow_x": null,
            "overflow_y": null,
            "padding": null,
            "right": null,
            "top": null,
            "visibility": null,
            "width": null
          }
        },
        "cfada1a51ba74df9820e504e59680c8a": {
          "model_module": "@jupyter-widgets/controls",
          "model_name": "DescriptionStyleModel",
          "model_module_version": "1.5.0",
          "state": {
            "_model_module": "@jupyter-widgets/controls",
            "_model_module_version": "1.5.0",
            "_model_name": "DescriptionStyleModel",
            "_view_count": null,
            "_view_module": "@jupyter-widgets/base",
            "_view_module_version": "1.2.0",
            "_view_name": "StyleView",
            "description_width": ""
          }
        },
        "2e4e83c4d2244dc7bb8cc75a7f8e3033": {
          "model_module": "@jupyter-widgets/base",
          "model_name": "LayoutModel",
          "model_module_version": "1.2.0",
          "state": {
            "_model_module": "@jupyter-widgets/base",
            "_model_module_version": "1.2.0",
            "_model_name": "LayoutModel",
            "_view_count": null,
            "_view_module": "@jupyter-widgets/base",
            "_view_module_version": "1.2.0",
            "_view_name": "LayoutView",
            "align_content": null,
            "align_items": null,
            "align_self": null,
            "border": null,
            "bottom": null,
            "display": null,
            "flex": null,
            "flex_flow": null,
            "grid_area": null,
            "grid_auto_columns": null,
            "grid_auto_flow": null,
            "grid_auto_rows": null,
            "grid_column": null,
            "grid_gap": null,
            "grid_row": null,
            "grid_template_areas": null,
            "grid_template_columns": null,
            "grid_template_rows": null,
            "height": null,
            "justify_content": null,
            "justify_items": null,
            "left": null,
            "margin": null,
            "max_height": null,
            "max_width": null,
            "min_height": null,
            "min_width": null,
            "object_fit": null,
            "object_position": null,
            "order": null,
            "overflow": null,
            "overflow_x": null,
            "overflow_y": null,
            "padding": null,
            "right": null,
            "top": null,
            "visibility": null,
            "width": null
          }
        },
        "41929ea0454b455db32bb54ca90bd7ab": {
          "model_module": "@jupyter-widgets/controls",
          "model_name": "ProgressStyleModel",
          "model_module_version": "1.5.0",
          "state": {
            "_model_module": "@jupyter-widgets/controls",
            "_model_module_version": "1.5.0",
            "_model_name": "ProgressStyleModel",
            "_view_count": null,
            "_view_module": "@jupyter-widgets/base",
            "_view_module_version": "1.2.0",
            "_view_name": "StyleView",
            "bar_color": null,
            "description_width": ""
          }
        },
        "3e70b723b9f54a91bc8383ed732d8792": {
          "model_module": "@jupyter-widgets/base",
          "model_name": "LayoutModel",
          "model_module_version": "1.2.0",
          "state": {
            "_model_module": "@jupyter-widgets/base",
            "_model_module_version": "1.2.0",
            "_model_name": "LayoutModel",
            "_view_count": null,
            "_view_module": "@jupyter-widgets/base",
            "_view_module_version": "1.2.0",
            "_view_name": "LayoutView",
            "align_content": null,
            "align_items": null,
            "align_self": null,
            "border": null,
            "bottom": null,
            "display": null,
            "flex": null,
            "flex_flow": null,
            "grid_area": null,
            "grid_auto_columns": null,
            "grid_auto_flow": null,
            "grid_auto_rows": null,
            "grid_column": null,
            "grid_gap": null,
            "grid_row": null,
            "grid_template_areas": null,
            "grid_template_columns": null,
            "grid_template_rows": null,
            "height": null,
            "justify_content": null,
            "justify_items": null,
            "left": null,
            "margin": null,
            "max_height": null,
            "max_width": null,
            "min_height": null,
            "min_width": null,
            "object_fit": null,
            "object_position": null,
            "order": null,
            "overflow": null,
            "overflow_x": null,
            "overflow_y": null,
            "padding": null,
            "right": null,
            "top": null,
            "visibility": null,
            "width": null
          }
        },
        "a4d111def9d74e33abbe45bcda892750": {
          "model_module": "@jupyter-widgets/controls",
          "model_name": "DescriptionStyleModel",
          "model_module_version": "1.5.0",
          "state": {
            "_model_module": "@jupyter-widgets/controls",
            "_model_module_version": "1.5.0",
            "_model_name": "DescriptionStyleModel",
            "_view_count": null,
            "_view_module": "@jupyter-widgets/base",
            "_view_module_version": "1.2.0",
            "_view_name": "StyleView",
            "description_width": ""
          }
        },
        "f3d6ea0b19bc414db2d19e83c4007369": {
          "model_module": "@jupyter-widgets/controls",
          "model_name": "HBoxModel",
          "model_module_version": "1.5.0",
          "state": {
            "_dom_classes": [],
            "_model_module": "@jupyter-widgets/controls",
            "_model_module_version": "1.5.0",
            "_model_name": "HBoxModel",
            "_view_count": null,
            "_view_module": "@jupyter-widgets/controls",
            "_view_module_version": "1.5.0",
            "_view_name": "HBoxView",
            "box_style": "",
            "children": [
              "IPY_MODEL_daa2ccb61b8e4ab484849fa29ab59cb6",
              "IPY_MODEL_2d96e0ab745b406b8285d1791814d941",
              "IPY_MODEL_180b69758ba74c57abc9f72a0d3a732a"
            ],
            "layout": "IPY_MODEL_cefc23c395fb4f1290cf294631ce6e48"
          }
        },
        "daa2ccb61b8e4ab484849fa29ab59cb6": {
          "model_module": "@jupyter-widgets/controls",
          "model_name": "HTMLModel",
          "model_module_version": "1.5.0",
          "state": {
            "_dom_classes": [],
            "_model_module": "@jupyter-widgets/controls",
            "_model_module_version": "1.5.0",
            "_model_name": "HTMLModel",
            "_view_count": null,
            "_view_module": "@jupyter-widgets/controls",
            "_view_module_version": "1.5.0",
            "_view_name": "HTMLView",
            "description": "",
            "description_tooltip": null,
            "layout": "IPY_MODEL_59195115aa754717aa0b7bec137d5f51",
            "placeholder": "​",
            "style": "IPY_MODEL_890e8fe6540f402d9515d90836e5ee42",
            "value": "config.json: 100%"
          }
        },
        "2d96e0ab745b406b8285d1791814d941": {
          "model_module": "@jupyter-widgets/controls",
          "model_name": "FloatProgressModel",
          "model_module_version": "1.5.0",
          "state": {
            "_dom_classes": [],
            "_model_module": "@jupyter-widgets/controls",
            "_model_module_version": "1.5.0",
            "_model_name": "FloatProgressModel",
            "_view_count": null,
            "_view_module": "@jupyter-widgets/controls",
            "_view_module_version": "1.5.0",
            "_view_name": "ProgressView",
            "bar_style": "success",
            "description": "",
            "description_tooltip": null,
            "layout": "IPY_MODEL_ac97adfe16544c9098d8b9e7aa1695b7",
            "max": 570,
            "min": 0,
            "orientation": "horizontal",
            "style": "IPY_MODEL_9bc10f29e3884facbe93ed41dc504d0b",
            "value": 570
          }
        },
        "180b69758ba74c57abc9f72a0d3a732a": {
          "model_module": "@jupyter-widgets/controls",
          "model_name": "HTMLModel",
          "model_module_version": "1.5.0",
          "state": {
            "_dom_classes": [],
            "_model_module": "@jupyter-widgets/controls",
            "_model_module_version": "1.5.0",
            "_model_name": "HTMLModel",
            "_view_count": null,
            "_view_module": "@jupyter-widgets/controls",
            "_view_module_version": "1.5.0",
            "_view_name": "HTMLView",
            "description": "",
            "description_tooltip": null,
            "layout": "IPY_MODEL_c1fc23937fd94cd2ab7d165548662afa",
            "placeholder": "​",
            "style": "IPY_MODEL_0752430833d04b799cef2910ef6b089f",
            "value": " 570/570 [00:00&lt;00:00, 7.90kB/s]"
          }
        },
        "cefc23c395fb4f1290cf294631ce6e48": {
          "model_module": "@jupyter-widgets/base",
          "model_name": "LayoutModel",
          "model_module_version": "1.2.0",
          "state": {
            "_model_module": "@jupyter-widgets/base",
            "_model_module_version": "1.2.0",
            "_model_name": "LayoutModel",
            "_view_count": null,
            "_view_module": "@jupyter-widgets/base",
            "_view_module_version": "1.2.0",
            "_view_name": "LayoutView",
            "align_content": null,
            "align_items": null,
            "align_self": null,
            "border": null,
            "bottom": null,
            "display": null,
            "flex": null,
            "flex_flow": null,
            "grid_area": null,
            "grid_auto_columns": null,
            "grid_auto_flow": null,
            "grid_auto_rows": null,
            "grid_column": null,
            "grid_gap": null,
            "grid_row": null,
            "grid_template_areas": null,
            "grid_template_columns": null,
            "grid_template_rows": null,
            "height": null,
            "justify_content": null,
            "justify_items": null,
            "left": null,
            "margin": null,
            "max_height": null,
            "max_width": null,
            "min_height": null,
            "min_width": null,
            "object_fit": null,
            "object_position": null,
            "order": null,
            "overflow": null,
            "overflow_x": null,
            "overflow_y": null,
            "padding": null,
            "right": null,
            "top": null,
            "visibility": null,
            "width": null
          }
        },
        "59195115aa754717aa0b7bec137d5f51": {
          "model_module": "@jupyter-widgets/base",
          "model_name": "LayoutModel",
          "model_module_version": "1.2.0",
          "state": {
            "_model_module": "@jupyter-widgets/base",
            "_model_module_version": "1.2.0",
            "_model_name": "LayoutModel",
            "_view_count": null,
            "_view_module": "@jupyter-widgets/base",
            "_view_module_version": "1.2.0",
            "_view_name": "LayoutView",
            "align_content": null,
            "align_items": null,
            "align_self": null,
            "border": null,
            "bottom": null,
            "display": null,
            "flex": null,
            "flex_flow": null,
            "grid_area": null,
            "grid_auto_columns": null,
            "grid_auto_flow": null,
            "grid_auto_rows": null,
            "grid_column": null,
            "grid_gap": null,
            "grid_row": null,
            "grid_template_areas": null,
            "grid_template_columns": null,
            "grid_template_rows": null,
            "height": null,
            "justify_content": null,
            "justify_items": null,
            "left": null,
            "margin": null,
            "max_height": null,
            "max_width": null,
            "min_height": null,
            "min_width": null,
            "object_fit": null,
            "object_position": null,
            "order": null,
            "overflow": null,
            "overflow_x": null,
            "overflow_y": null,
            "padding": null,
            "right": null,
            "top": null,
            "visibility": null,
            "width": null
          }
        },
        "890e8fe6540f402d9515d90836e5ee42": {
          "model_module": "@jupyter-widgets/controls",
          "model_name": "DescriptionStyleModel",
          "model_module_version": "1.5.0",
          "state": {
            "_model_module": "@jupyter-widgets/controls",
            "_model_module_version": "1.5.0",
            "_model_name": "DescriptionStyleModel",
            "_view_count": null,
            "_view_module": "@jupyter-widgets/base",
            "_view_module_version": "1.2.0",
            "_view_name": "StyleView",
            "description_width": ""
          }
        },
        "ac97adfe16544c9098d8b9e7aa1695b7": {
          "model_module": "@jupyter-widgets/base",
          "model_name": "LayoutModel",
          "model_module_version": "1.2.0",
          "state": {
            "_model_module": "@jupyter-widgets/base",
            "_model_module_version": "1.2.0",
            "_model_name": "LayoutModel",
            "_view_count": null,
            "_view_module": "@jupyter-widgets/base",
            "_view_module_version": "1.2.0",
            "_view_name": "LayoutView",
            "align_content": null,
            "align_items": null,
            "align_self": null,
            "border": null,
            "bottom": null,
            "display": null,
            "flex": null,
            "flex_flow": null,
            "grid_area": null,
            "grid_auto_columns": null,
            "grid_auto_flow": null,
            "grid_auto_rows": null,
            "grid_column": null,
            "grid_gap": null,
            "grid_row": null,
            "grid_template_areas": null,
            "grid_template_columns": null,
            "grid_template_rows": null,
            "height": null,
            "justify_content": null,
            "justify_items": null,
            "left": null,
            "margin": null,
            "max_height": null,
            "max_width": null,
            "min_height": null,
            "min_width": null,
            "object_fit": null,
            "object_position": null,
            "order": null,
            "overflow": null,
            "overflow_x": null,
            "overflow_y": null,
            "padding": null,
            "right": null,
            "top": null,
            "visibility": null,
            "width": null
          }
        },
        "9bc10f29e3884facbe93ed41dc504d0b": {
          "model_module": "@jupyter-widgets/controls",
          "model_name": "ProgressStyleModel",
          "model_module_version": "1.5.0",
          "state": {
            "_model_module": "@jupyter-widgets/controls",
            "_model_module_version": "1.5.0",
            "_model_name": "ProgressStyleModel",
            "_view_count": null,
            "_view_module": "@jupyter-widgets/base",
            "_view_module_version": "1.2.0",
            "_view_name": "StyleView",
            "bar_color": null,
            "description_width": ""
          }
        },
        "c1fc23937fd94cd2ab7d165548662afa": {
          "model_module": "@jupyter-widgets/base",
          "model_name": "LayoutModel",
          "model_module_version": "1.2.0",
          "state": {
            "_model_module": "@jupyter-widgets/base",
            "_model_module_version": "1.2.0",
            "_model_name": "LayoutModel",
            "_view_count": null,
            "_view_module": "@jupyter-widgets/base",
            "_view_module_version": "1.2.0",
            "_view_name": "LayoutView",
            "align_content": null,
            "align_items": null,
            "align_self": null,
            "border": null,
            "bottom": null,
            "display": null,
            "flex": null,
            "flex_flow": null,
            "grid_area": null,
            "grid_auto_columns": null,
            "grid_auto_flow": null,
            "grid_auto_rows": null,
            "grid_column": null,
            "grid_gap": null,
            "grid_row": null,
            "grid_template_areas": null,
            "grid_template_columns": null,
            "grid_template_rows": null,
            "height": null,
            "justify_content": null,
            "justify_items": null,
            "left": null,
            "margin": null,
            "max_height": null,
            "max_width": null,
            "min_height": null,
            "min_width": null,
            "object_fit": null,
            "object_position": null,
            "order": null,
            "overflow": null,
            "overflow_x": null,
            "overflow_y": null,
            "padding": null,
            "right": null,
            "top": null,
            "visibility": null,
            "width": null
          }
        },
        "0752430833d04b799cef2910ef6b089f": {
          "model_module": "@jupyter-widgets/controls",
          "model_name": "DescriptionStyleModel",
          "model_module_version": "1.5.0",
          "state": {
            "_model_module": "@jupyter-widgets/controls",
            "_model_module_version": "1.5.0",
            "_model_name": "DescriptionStyleModel",
            "_view_count": null,
            "_view_module": "@jupyter-widgets/base",
            "_view_module_version": "1.2.0",
            "_view_name": "StyleView",
            "description_width": ""
          }
        },
        "8c27bd399ad04f819b3eeac242f411b9": {
          "model_module": "@jupyter-widgets/controls",
          "model_name": "HBoxModel",
          "model_module_version": "1.5.0",
          "state": {
            "_dom_classes": [],
            "_model_module": "@jupyter-widgets/controls",
            "_model_module_version": "1.5.0",
            "_model_name": "HBoxModel",
            "_view_count": null,
            "_view_module": "@jupyter-widgets/controls",
            "_view_module_version": "1.5.0",
            "_view_name": "HBoxView",
            "box_style": "",
            "children": [
              "IPY_MODEL_132ad2ef6d1846b6af83830a91e6b1d1",
              "IPY_MODEL_493bbfdca41f4863a5d6c00936ed7b28",
              "IPY_MODEL_18e17479d6d04b78b265446bed52e55c"
            ],
            "layout": "IPY_MODEL_afa0ea9fb2834283888a81b1a58623d0"
          }
        },
        "132ad2ef6d1846b6af83830a91e6b1d1": {
          "model_module": "@jupyter-widgets/controls",
          "model_name": "HTMLModel",
          "model_module_version": "1.5.0",
          "state": {
            "_dom_classes": [],
            "_model_module": "@jupyter-widgets/controls",
            "_model_module_version": "1.5.0",
            "_model_name": "HTMLModel",
            "_view_count": null,
            "_view_module": "@jupyter-widgets/controls",
            "_view_module_version": "1.5.0",
            "_view_name": "HTMLView",
            "description": "",
            "description_tooltip": null,
            "layout": "IPY_MODEL_e7ccba86af2b4250a99fd9b9ad3fbaf5",
            "placeholder": "​",
            "style": "IPY_MODEL_e3264acba65444cab15785ff0421b67e",
            "value": "model.safetensors: 100%"
          }
        },
        "493bbfdca41f4863a5d6c00936ed7b28": {
          "model_module": "@jupyter-widgets/controls",
          "model_name": "FloatProgressModel",
          "model_module_version": "1.5.0",
          "state": {
            "_dom_classes": [],
            "_model_module": "@jupyter-widgets/controls",
            "_model_module_version": "1.5.0",
            "_model_name": "FloatProgressModel",
            "_view_count": null,
            "_view_module": "@jupyter-widgets/controls",
            "_view_module_version": "1.5.0",
            "_view_name": "ProgressView",
            "bar_style": "success",
            "description": "",
            "description_tooltip": null,
            "layout": "IPY_MODEL_a90c463f3ccf499b8ac6baa30c709e68",
            "max": 440449768,
            "min": 0,
            "orientation": "horizontal",
            "style": "IPY_MODEL_7c0902ac486c4a52adf802cc7abbf262",
            "value": 440449768
          }
        },
        "18e17479d6d04b78b265446bed52e55c": {
          "model_module": "@jupyter-widgets/controls",
          "model_name": "HTMLModel",
          "model_module_version": "1.5.0",
          "state": {
            "_dom_classes": [],
            "_model_module": "@jupyter-widgets/controls",
            "_model_module_version": "1.5.0",
            "_model_name": "HTMLModel",
            "_view_count": null,
            "_view_module": "@jupyter-widgets/controls",
            "_view_module_version": "1.5.0",
            "_view_name": "HTMLView",
            "description": "",
            "description_tooltip": null,
            "layout": "IPY_MODEL_7feb582cce3f4881aa60253b05d021e7",
            "placeholder": "​",
            "style": "IPY_MODEL_ff251ea3dac847969413616cbbd05203",
            "value": " 440M/440M [00:02&lt;00:00, 222MB/s]"
          }
        },
        "afa0ea9fb2834283888a81b1a58623d0": {
          "model_module": "@jupyter-widgets/base",
          "model_name": "LayoutModel",
          "model_module_version": "1.2.0",
          "state": {
            "_model_module": "@jupyter-widgets/base",
            "_model_module_version": "1.2.0",
            "_model_name": "LayoutModel",
            "_view_count": null,
            "_view_module": "@jupyter-widgets/base",
            "_view_module_version": "1.2.0",
            "_view_name": "LayoutView",
            "align_content": null,
            "align_items": null,
            "align_self": null,
            "border": null,
            "bottom": null,
            "display": null,
            "flex": null,
            "flex_flow": null,
            "grid_area": null,
            "grid_auto_columns": null,
            "grid_auto_flow": null,
            "grid_auto_rows": null,
            "grid_column": null,
            "grid_gap": null,
            "grid_row": null,
            "grid_template_areas": null,
            "grid_template_columns": null,
            "grid_template_rows": null,
            "height": null,
            "justify_content": null,
            "justify_items": null,
            "left": null,
            "margin": null,
            "max_height": null,
            "max_width": null,
            "min_height": null,
            "min_width": null,
            "object_fit": null,
            "object_position": null,
            "order": null,
            "overflow": null,
            "overflow_x": null,
            "overflow_y": null,
            "padding": null,
            "right": null,
            "top": null,
            "visibility": null,
            "width": null
          }
        },
        "e7ccba86af2b4250a99fd9b9ad3fbaf5": {
          "model_module": "@jupyter-widgets/base",
          "model_name": "LayoutModel",
          "model_module_version": "1.2.0",
          "state": {
            "_model_module": "@jupyter-widgets/base",
            "_model_module_version": "1.2.0",
            "_model_name": "LayoutModel",
            "_view_count": null,
            "_view_module": "@jupyter-widgets/base",
            "_view_module_version": "1.2.0",
            "_view_name": "LayoutView",
            "align_content": null,
            "align_items": null,
            "align_self": null,
            "border": null,
            "bottom": null,
            "display": null,
            "flex": null,
            "flex_flow": null,
            "grid_area": null,
            "grid_auto_columns": null,
            "grid_auto_flow": null,
            "grid_auto_rows": null,
            "grid_column": null,
            "grid_gap": null,
            "grid_row": null,
            "grid_template_areas": null,
            "grid_template_columns": null,
            "grid_template_rows": null,
            "height": null,
            "justify_content": null,
            "justify_items": null,
            "left": null,
            "margin": null,
            "max_height": null,
            "max_width": null,
            "min_height": null,
            "min_width": null,
            "object_fit": null,
            "object_position": null,
            "order": null,
            "overflow": null,
            "overflow_x": null,
            "overflow_y": null,
            "padding": null,
            "right": null,
            "top": null,
            "visibility": null,
            "width": null
          }
        },
        "e3264acba65444cab15785ff0421b67e": {
          "model_module": "@jupyter-widgets/controls",
          "model_name": "DescriptionStyleModel",
          "model_module_version": "1.5.0",
          "state": {
            "_model_module": "@jupyter-widgets/controls",
            "_model_module_version": "1.5.0",
            "_model_name": "DescriptionStyleModel",
            "_view_count": null,
            "_view_module": "@jupyter-widgets/base",
            "_view_module_version": "1.2.0",
            "_view_name": "StyleView",
            "description_width": ""
          }
        },
        "a90c463f3ccf499b8ac6baa30c709e68": {
          "model_module": "@jupyter-widgets/base",
          "model_name": "LayoutModel",
          "model_module_version": "1.2.0",
          "state": {
            "_model_module": "@jupyter-widgets/base",
            "_model_module_version": "1.2.0",
            "_model_name": "LayoutModel",
            "_view_count": null,
            "_view_module": "@jupyter-widgets/base",
            "_view_module_version": "1.2.0",
            "_view_name": "LayoutView",
            "align_content": null,
            "align_items": null,
            "align_self": null,
            "border": null,
            "bottom": null,
            "display": null,
            "flex": null,
            "flex_flow": null,
            "grid_area": null,
            "grid_auto_columns": null,
            "grid_auto_flow": null,
            "grid_auto_rows": null,
            "grid_column": null,
            "grid_gap": null,
            "grid_row": null,
            "grid_template_areas": null,
            "grid_template_columns": null,
            "grid_template_rows": null,
            "height": null,
            "justify_content": null,
            "justify_items": null,
            "left": null,
            "margin": null,
            "max_height": null,
            "max_width": null,
            "min_height": null,
            "min_width": null,
            "object_fit": null,
            "object_position": null,
            "order": null,
            "overflow": null,
            "overflow_x": null,
            "overflow_y": null,
            "padding": null,
            "right": null,
            "top": null,
            "visibility": null,
            "width": null
          }
        },
        "7c0902ac486c4a52adf802cc7abbf262": {
          "model_module": "@jupyter-widgets/controls",
          "model_name": "ProgressStyleModel",
          "model_module_version": "1.5.0",
          "state": {
            "_model_module": "@jupyter-widgets/controls",
            "_model_module_version": "1.5.0",
            "_model_name": "ProgressStyleModel",
            "_view_count": null,
            "_view_module": "@jupyter-widgets/base",
            "_view_module_version": "1.2.0",
            "_view_name": "StyleView",
            "bar_color": null,
            "description_width": ""
          }
        },
        "7feb582cce3f4881aa60253b05d021e7": {
          "model_module": "@jupyter-widgets/base",
          "model_name": "LayoutModel",
          "model_module_version": "1.2.0",
          "state": {
            "_model_module": "@jupyter-widgets/base",
            "_model_module_version": "1.2.0",
            "_model_name": "LayoutModel",
            "_view_count": null,
            "_view_module": "@jupyter-widgets/base",
            "_view_module_version": "1.2.0",
            "_view_name": "LayoutView",
            "align_content": null,
            "align_items": null,
            "align_self": null,
            "border": null,
            "bottom": null,
            "display": null,
            "flex": null,
            "flex_flow": null,
            "grid_area": null,
            "grid_auto_columns": null,
            "grid_auto_flow": null,
            "grid_auto_rows": null,
            "grid_column": null,
            "grid_gap": null,
            "grid_row": null,
            "grid_template_areas": null,
            "grid_template_columns": null,
            "grid_template_rows": null,
            "height": null,
            "justify_content": null,
            "justify_items": null,
            "left": null,
            "margin": null,
            "max_height": null,
            "max_width": null,
            "min_height": null,
            "min_width": null,
            "object_fit": null,
            "object_position": null,
            "order": null,
            "overflow": null,
            "overflow_x": null,
            "overflow_y": null,
            "padding": null,
            "right": null,
            "top": null,
            "visibility": null,
            "width": null
          }
        },
        "ff251ea3dac847969413616cbbd05203": {
          "model_module": "@jupyter-widgets/controls",
          "model_name": "DescriptionStyleModel",
          "model_module_version": "1.5.0",
          "state": {
            "_model_module": "@jupyter-widgets/controls",
            "_model_module_version": "1.5.0",
            "_model_name": "DescriptionStyleModel",
            "_view_count": null,
            "_view_module": "@jupyter-widgets/base",
            "_view_module_version": "1.2.0",
            "_view_name": "StyleView",
            "description_width": ""
          }
        }
      }
    }
  },
  "nbformat": 4,
  "nbformat_minor": 5
}